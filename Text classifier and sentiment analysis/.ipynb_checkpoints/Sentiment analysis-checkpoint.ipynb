{
 "cells": [
  {
   "cell_type": "code",
   "execution_count": 170,
   "metadata": {},
   "outputs": [
    {
     "data": {
      "text/plain": [
       "'polarity =1.0'"
      ]
     },
     "execution_count": 170,
     "metadata": {},
     "output_type": "execute_result"
    }
   ],
   "source": [
    "predecir_polaridad('amo ir al banco')"
   ]
  },
  {
   "cell_type": "code",
   "execution_count": null,
   "metadata": {},
   "outputs": [],
   "source": []
  },
  {
   "cell_type": "code",
   "execution_count": null,
   "metadata": {},
   "outputs": [],
   "source": []
  },
  {
   "cell_type": "code",
   "execution_count": null,
   "metadata": {},
   "outputs": [],
   "source": []
  },
  {
   "cell_type": "code",
   "execution_count": null,
   "metadata": {},
   "outputs": [],
   "source": []
  },
  {
   "cell_type": "code",
   "execution_count": null,
   "metadata": {},
   "outputs": [],
   "source": []
  },
  {
   "cell_type": "code",
   "execution_count": 137,
   "metadata": {},
   "outputs": [],
   "source": [
    "def predecir_polaridad(review):\n",
    "    review = lemmatize_(review)\n",
    "    review = [' '.join(set([w for w in review if w in vocab]))]\n",
    "    t.fit_on_texts(review)\n",
    "    X_test = t.texts_to_matrix(review, mode = 'freq')\n",
    "    sentiment = Pickled_keras_Model.predict(X_test, verbose=0)\n",
    "    sentiment = 'polarity ={:0.1f}'.format(sentiment[0][0])\n",
    "    return sentiment"
   ]
  },
  {
   "cell_type": "code",
   "execution_count": 1,
   "metadata": {},
   "outputs": [
    {
     "name": "stderr",
     "output_type": "stream",
     "text": [
      "Using TensorFlow backend.\n"
     ]
    }
   ],
   "source": [
    "import pandas as pd\n",
    "import re\n",
    "\n",
    "import spacy\n",
    "from spacy.lang.es import Spanish\n",
    "from spacy_spanish_lemmatizer import SpacyCustomLemmatizer\n",
    "from spacy.lang.es.stop_words import STOP_WORDS\n",
    "\n",
    "from collections import Counter\n",
    "from numpy import array\n",
    "\n",
    "from keras.preprocessing.text import Tokenizer\n",
    "from keras.models import Sequential\n",
    "from keras.layers import Dense\n",
    "from keras.layers import Dropout\n",
    "\n",
    "import pickle"
   ]
  },
  {
   "cell_type": "code",
   "execution_count": 17,
   "metadata": {},
   "outputs": [],
   "source": [
    "nlp = spacy.load('es_core_news_md')"
   ]
  },
  {
   "cell_type": "code",
   "execution_count": 37,
   "metadata": {},
   "outputs": [],
   "source": [
    "twitter_train = pd.read_csv('corpus_train.csv')"
   ]
  },
  {
   "cell_type": "code",
   "execution_count": 38,
   "metadata": {},
   "outputs": [],
   "source": [
    "twitter = twitter_train[twitter_train['polarity'] != 0.5]"
   ]
  },
  {
   "cell_type": "code",
   "execution_count": 39,
   "metadata": {},
   "outputs": [],
   "source": [
    "twitter_pos = twitter_train[twitter_train['polarity'] == 1.0]"
   ]
  },
  {
   "cell_type": "code",
   "execution_count": 40,
   "metadata": {},
   "outputs": [],
   "source": [
    "twitter_neg = twitter_train[twitter_train['polarity'] == 0.0]"
   ]
  },
  {
   "cell_type": "code",
   "execution_count": 41,
   "metadata": {},
   "outputs": [],
   "source": [
    "#train set\n",
    "twitter_train_pos = twitter_pos[:424]\n",
    "twitter_train_neg = twitter_neg[:682]\n",
    "twitter_train =pd.concat([twitter_train_pos,twitter_train_neg])"
   ]
  },
  {
   "cell_type": "code",
   "execution_count": 42,
   "metadata": {},
   "outputs": [],
   "source": [
    "twitter_test_pos = twitter_pos[424:]\n",
    "twitter_test_neg = twitter_neg[682:]\n",
    "twitter_test =pd.concat([twitter_test_pos,twitter_test_neg])"
   ]
  },
  {
   "cell_type": "code",
   "execution_count": 43,
   "metadata": {},
   "outputs": [],
   "source": [
    "#remove links, numbers and any other simbols. Convert to lower case\n",
    "def clean_up(s):\n",
    "    s=re.sub(r'http\\S+','',s)\n",
    "    s=re.sub('\\W', ' ',s)\n",
    "    s=re.sub('\\d', ' ', s)\n",
    "    s=s.lower().strip()\n",
    "    s=s.replace('á','a')\n",
    "    s=s.replace('é','e')\n",
    "    s=s.replace('í','i')\n",
    "    s=s.replace('ó','o')\n",
    "    s=s.replace('ú','u')\n",
    "    #s=[i for i in s if i not in STOP_WORDS and i!= '   ' and i!= ' ' and i!= '  ' and i!= '    ' and i!= '     ' and i!= '      ' and i!= '       ' and len(i)>2]\n",
    "    return s"
   ]
  },
  {
   "cell_type": "code",
   "execution_count": 44,
   "metadata": {},
   "outputs": [],
   "source": [
    "twitter_train.content = twitter_train.content.apply(lambda x : clean_up(x))"
   ]
  },
  {
   "cell_type": "code",
   "execution_count": 45,
   "metadata": {},
   "outputs": [],
   "source": [
    "twitter_test.content = twitter_test.content.apply(lambda x : clean_up(x))"
   ]
  },
  {
   "cell_type": "code",
   "execution_count": 10,
   "metadata": {},
   "outputs": [],
   "source": [
    "def lemmatize_(s):\n",
    "    lst=[]\n",
    "    s=nlp(s)\n",
    "    for token in s:\n",
    "        lst.append(token.lemma_)\n",
    "    return lst"
   ]
  },
  {
   "cell_type": "code",
   "execution_count": 46,
   "metadata": {},
   "outputs": [],
   "source": [
    "twitter_train.content = twitter_train.content.apply(lambda x : lemmatize_(x))"
   ]
  },
  {
   "cell_type": "code",
   "execution_count": 47,
   "metadata": {},
   "outputs": [],
   "source": [
    "twitter_test.content = twitter_test.content.apply(lambda x : lemmatize_(x))"
   ]
  },
  {
   "cell_type": "code",
   "execution_count": 11,
   "metadata": {},
   "outputs": [],
   "source": [
    "def remove_sw(s):\n",
    "    lst=[]\n",
    "    for i in s:\n",
    "        if i not in STOP_WORDS and i!= '   ' and i!= ' ' and i!= '  ' and i!= '    ' and i!= '     ' and i!= '      ' and i!= '       ' and len(i)>2:\n",
    "            lst.append(i)\n",
    "    return lst"
   ]
  },
  {
   "cell_type": "code",
   "execution_count": 48,
   "metadata": {},
   "outputs": [],
   "source": [
    "twitter_train.content = twitter_train.content.apply(lambda x : remove_sw(x))\n",
    "twitter_train.content = twitter_train.content.apply(lambda x: 'jajaja' if 'jaja' in x else x)"
   ]
  },
  {
   "cell_type": "code",
   "execution_count": 49,
   "metadata": {},
   "outputs": [],
   "source": [
    "twitter_test.content = twitter_test.content.apply(lambda x : remove_sw(x))\n",
    "twitter_test.content = twitter_test.content.apply(lambda x: 'jajaja' if 'jaja' in x else x)"
   ]
  },
  {
   "cell_type": "code",
   "execution_count": 50,
   "metadata": {},
   "outputs": [
    {
     "data": {
      "text/html": [
       "<div>\n",
       "<style scoped>\n",
       "    .dataframe tbody tr th:only-of-type {\n",
       "        vertical-align: middle;\n",
       "    }\n",
       "\n",
       "    .dataframe tbody tr th {\n",
       "        vertical-align: top;\n",
       "    }\n",
       "\n",
       "    .dataframe thead th {\n",
       "        text-align: right;\n",
       "    }\n",
       "</style>\n",
       "<table border=\"1\" class=\"dataframe\">\n",
       "  <thead>\n",
       "    <tr style=\"text-align: right;\">\n",
       "      <th></th>\n",
       "      <th>Unnamed: 0</th>\n",
       "      <th>polarity</th>\n",
       "      <th>tweetid</th>\n",
       "      <th>user</th>\n",
       "      <th>content</th>\n",
       "      <th>date</th>\n",
       "      <th>lang</th>\n",
       "    </tr>\n",
       "  </thead>\n",
       "  <tbody>\n",
       "    <tr>\n",
       "      <th>2</th>\n",
       "      <td>2</td>\n",
       "      <td>1.0</td>\n",
       "      <td>771871884451295233</td>\n",
       "      <td>158142748</td>\n",
       "      <td>[sabian, after, fav, teatro, gramo, construir,...</td>\n",
       "      <td>Sat Sep 03 00:46:12 +0000 2016</td>\n",
       "      <td>es</td>\n",
       "    </tr>\n",
       "    <tr>\n",
       "      <th>3</th>\n",
       "      <td>3</td>\n",
       "      <td>1.0</td>\n",
       "      <td>771947976302456832</td>\n",
       "      <td>132254421</td>\n",
       "      <td>[sali, permiso, mujer, detallar, estaran, lleg...</td>\n",
       "      <td>Sat Sep 03 05:48:34 +0000 2016</td>\n",
       "      <td>es</td>\n",
       "    </tr>\n",
       "    <tr>\n",
       "      <th>13</th>\n",
       "      <td>13</td>\n",
       "      <td>1.0</td>\n",
       "      <td>755832629602111488</td>\n",
       "      <td>174736872</td>\n",
       "      <td>[elegir, unir, milagro, llenar, armonia, luz, ...</td>\n",
       "      <td>Wed Jul 20 18:31:56 +0000 2016</td>\n",
       "      <td>es</td>\n",
       "    </tr>\n",
       "    <tr>\n",
       "      <th>19</th>\n",
       "      <td>19</td>\n",
       "      <td>1.0</td>\n",
       "      <td>766864316716888065</td>\n",
       "      <td>185477131</td>\n",
       "      <td>[dios, sorprender, semana, caja, cafe, coser, ...</td>\n",
       "      <td>Sat Aug 20 05:07:55 +0000 2016</td>\n",
       "      <td>es</td>\n",
       "    </tr>\n",
       "    <tr>\n",
       "      <th>25</th>\n",
       "      <td>25</td>\n",
       "      <td>1.0</td>\n",
       "      <td>778125753124851712</td>\n",
       "      <td>120585892</td>\n",
       "      <td>[listar, casar, dormir, hora, nomas, gracia, d...</td>\n",
       "      <td>Tue Sep 20 06:56:51 +0000 2016</td>\n",
       "      <td>es</td>\n",
       "    </tr>\n",
       "    <tr>\n",
       "      <th>...</th>\n",
       "      <td>...</td>\n",
       "      <td>...</td>\n",
       "      <td>...</td>\n",
       "      <td>...</td>\n",
       "      <td>...</td>\n",
       "      <td>...</td>\n",
       "      <td>...</td>\n",
       "    </tr>\n",
       "    <tr>\n",
       "      <th>1226</th>\n",
       "      <td>357</td>\n",
       "      <td>0.0</td>\n",
       "      <td>819341048547803136</td>\n",
       "      <td>393404039</td>\n",
       "      <td>[querer, yoosung, llamar, respondi, paso, suic...</td>\n",
       "      <td>Thu Jan 12 00:31:43 +0000 2017</td>\n",
       "      <td>es</td>\n",
       "    </tr>\n",
       "    <tr>\n",
       "      <th>1227</th>\n",
       "      <td>358</td>\n",
       "      <td>0.0</td>\n",
       "      <td>819340925151252482</td>\n",
       "      <td>69957465</td>\n",
       "      <td>[malito, querer, salir, camita]</td>\n",
       "      <td>Thu Jan 12 00:31:13 +0000 2017</td>\n",
       "      <td>es</td>\n",
       "    </tr>\n",
       "    <tr>\n",
       "      <th>1228</th>\n",
       "      <td>359</td>\n",
       "      <td>0.0</td>\n",
       "      <td>819339530293641217</td>\n",
       "      <td>1400900024</td>\n",
       "      <td>[triste, noticiar]</td>\n",
       "      <td>Thu Jan 12 00:25:41 +0000 2017</td>\n",
       "      <td>es</td>\n",
       "    </tr>\n",
       "    <tr>\n",
       "      <th>1229</th>\n",
       "      <td>360</td>\n",
       "      <td>0.0</td>\n",
       "      <td>819342352640802816</td>\n",
       "      <td>17710927</td>\n",
       "      <td>[novio, fresar, merengue, feo, feo, fruto]</td>\n",
       "      <td>Thu Jan 12 00:36:54 +0000 2017</td>\n",
       "      <td>es</td>\n",
       "    </tr>\n",
       "    <tr>\n",
       "      <th>1230</th>\n",
       "      <td>361</td>\n",
       "      <td>0.0</td>\n",
       "      <td>819344207164817408</td>\n",
       "      <td>70030184</td>\n",
       "      <td>[ignaciorobles, feo, gente, murio, tipo, culpa...</td>\n",
       "      <td>Thu Jan 12 00:44:16 +0000 2017</td>\n",
       "      <td>es</td>\n",
       "    </tr>\n",
       "  </tbody>\n",
       "</table>\n",
       "<p>1106 rows × 7 columns</p>\n",
       "</div>"
      ],
      "text/plain": [
       "      Unnamed: 0  polarity             tweetid        user  \\\n",
       "2              2       1.0  771871884451295233   158142748   \n",
       "3              3       1.0  771947976302456832   132254421   \n",
       "13            13       1.0  755832629602111488   174736872   \n",
       "19            19       1.0  766864316716888065   185477131   \n",
       "25            25       1.0  778125753124851712   120585892   \n",
       "...          ...       ...                 ...         ...   \n",
       "1226         357       0.0  819341048547803136   393404039   \n",
       "1227         358       0.0  819340925151252482    69957465   \n",
       "1228         359       0.0  819339530293641217  1400900024   \n",
       "1229         360       0.0  819342352640802816    17710927   \n",
       "1230         361       0.0  819344207164817408    70030184   \n",
       "\n",
       "                                                content  \\\n",
       "2     [sabian, after, fav, teatro, gramo, construir,...   \n",
       "3     [sali, permiso, mujer, detallar, estaran, lleg...   \n",
       "13    [elegir, unir, milagro, llenar, armonia, luz, ...   \n",
       "19    [dios, sorprender, semana, caja, cafe, coser, ...   \n",
       "25    [listar, casar, dormir, hora, nomas, gracia, d...   \n",
       "...                                                 ...   \n",
       "1226  [querer, yoosung, llamar, respondi, paso, suic...   \n",
       "1227                    [malito, querer, salir, camita]   \n",
       "1228                                 [triste, noticiar]   \n",
       "1229         [novio, fresar, merengue, feo, feo, fruto]   \n",
       "1230  [ignaciorobles, feo, gente, murio, tipo, culpa...   \n",
       "\n",
       "                                date lang  \n",
       "2     Sat Sep 03 00:46:12 +0000 2016   es  \n",
       "3     Sat Sep 03 05:48:34 +0000 2016   es  \n",
       "13    Wed Jul 20 18:31:56 +0000 2016   es  \n",
       "19    Sat Aug 20 05:07:55 +0000 2016   es  \n",
       "25    Tue Sep 20 06:56:51 +0000 2016   es  \n",
       "...                              ...  ...  \n",
       "1226  Thu Jan 12 00:31:43 +0000 2017   es  \n",
       "1227  Thu Jan 12 00:31:13 +0000 2017   es  \n",
       "1228  Thu Jan 12 00:25:41 +0000 2017   es  \n",
       "1229  Thu Jan 12 00:36:54 +0000 2017   es  \n",
       "1230  Thu Jan 12 00:44:16 +0000 2017   es  \n",
       "\n",
       "[1106 rows x 7 columns]"
      ]
     },
     "execution_count": 50,
     "metadata": {},
     "output_type": "execute_result"
    }
   ],
   "source": [
    "twitter_train"
   ]
  },
  {
   "cell_type": "code",
   "execution_count": 51,
   "metadata": {},
   "outputs": [],
   "source": [
    "#VOCABULARY OF KNOWN WORDS\n",
    "tokens = [w for e in twitter_train.content.tolist() for w in e] "
   ]
  },
  {
   "cell_type": "code",
   "execution_count": 52,
   "metadata": {},
   "outputs": [
    {
     "data": {
      "text/plain": [
       "7690"
      ]
     },
     "execution_count": 52,
     "metadata": {},
     "output_type": "execute_result"
    }
   ],
   "source": [
    "len(tokens)"
   ]
  },
  {
   "cell_type": "markdown",
   "metadata": {},
   "source": [
    "\n",
    "# CREATE VOCABULARY"
   ]
  },
  {
   "cell_type": "code",
   "execution_count": 53,
   "metadata": {},
   "outputs": [],
   "source": [
    "from collections import Counter"
   ]
  },
  {
   "cell_type": "code",
   "execution_count": 54,
   "metadata": {},
   "outputs": [],
   "source": [
    "vocab = Counter()"
   ]
  },
  {
   "cell_type": "code",
   "execution_count": 55,
   "metadata": {},
   "outputs": [],
   "source": [
    "vocab.update(tokens)"
   ]
  },
  {
   "cell_type": "code",
   "execution_count": 56,
   "metadata": {},
   "outputs": [
    {
     "name": "stdout",
     "output_type": "stream",
     "text": [
      "[('parir', 118), ('comer', 103), ('querer', 99), ('año', 92), ('j', 54), ('a', 54), ('vida', 48), ('feliz', 46), ('gustar', 45), ('triste', 44), ('dormir', 43), ('coser', 38), ('mamar', 38), ('pasar', 38), ('amigo', 38), ('seguir', 38), ('extrañar', 38), ('gracia', 37), ('casar', 35), ('bonito', 33), ('creer', 33), ('jajaja', 32), ('sentir', 32), ('llegar', 31), ('nadar', 31), ('esperar', 30), ('unir', 29), ('venir', 28), ('hora', 28), ('dejar', 28), ('traer', 28), ('amor', 27), ('amar', 27), ('super', 26), ('salir', 25), ('personar', 25), ('malo', 24), ('abrazar', 24), ('feo', 24), ('semana', 22), ('noche', 22), ('besitos', 22), ('ganar', 22), ('novio', 22), ('acabar', 22), ('andar', 21), ('mañana', 21), ('vivir', 20), ('neto', 20), ('alguien', 20)]\n"
     ]
    }
   ],
   "source": [
    "print(vocab.most_common(50))"
   ]
  },
  {
   "cell_type": "code",
   "execution_count": 57,
   "metadata": {},
   "outputs": [
    {
     "data": {
      "text/plain": [
       "3238"
      ]
     },
     "execution_count": 57,
     "metadata": {},
     "output_type": "execute_result"
    }
   ],
   "source": [
    "len(vocab)"
   ]
  },
  {
   "cell_type": "code",
   "execution_count": 28,
   "metadata": {},
   "outputs": [],
   "source": [
    "# keep tokens that occur at least twice\n",
    "#min_occur = 2\n",
    "#x =[k for k,v in vocab.items() if v >= min_occur]"
   ]
  },
  {
   "cell_type": "code",
   "execution_count": 58,
   "metadata": {},
   "outputs": [],
   "source": [
    "# save list to file\n",
    "def save_list(lines, filename):\n",
    "    # convert lines to a single blob of text\n",
    "    data = '\\n'.join(lines)\n",
    "    # open file\n",
    "    file = open(filename, 'w')\n",
    "    # write text\n",
    "    file.write(data)\n",
    "    # close file\n",
    "    file.close()\n",
    "\n",
    "# save tokens to a vocabulary file\n",
    "save_list(tokens, 'vocab1.txt')"
   ]
  },
  {
   "cell_type": "code",
   "execution_count": 59,
   "metadata": {},
   "outputs": [],
   "source": [
    "from keras.preprocessing.text import Tokenizer"
   ]
  },
  {
   "cell_type": "code",
   "execution_count": 31,
   "metadata": {},
   "outputs": [],
   "source": [
    "#docs = [w for e in twitter_train.content.tolist() for w in e if w in vocab] "
   ]
  },
  {
   "cell_type": "code",
   "execution_count": 60,
   "metadata": {},
   "outputs": [],
   "source": [
    "def words_in_vocab(s):\n",
    "    lst=[]\n",
    "    for i in s:\n",
    "        if i in vocab:\n",
    "            lst.append(i)\n",
    "    return set(lst)"
   ]
  },
  {
   "cell_type": "code",
   "execution_count": 61,
   "metadata": {},
   "outputs": [],
   "source": [
    "twitter_train.content = twitter_train.content.apply(lambda x : words_in_vocab(x))\n",
    "twitter_test.content = twitter_test.content.apply(lambda x : words_in_vocab(x))"
   ]
  },
  {
   "cell_type": "code",
   "execution_count": 62,
   "metadata": {},
   "outputs": [],
   "source": [
    "def join_line(s):\n",
    "    return ' '.join([i for i in s])"
   ]
  },
  {
   "cell_type": "code",
   "execution_count": 63,
   "metadata": {},
   "outputs": [],
   "source": [
    "twitter_train.content = twitter_train.content.apply(lambda x : join_line(x))"
   ]
  },
  {
   "cell_type": "code",
   "execution_count": 64,
   "metadata": {},
   "outputs": [],
   "source": [
    "twitter_test.content = twitter_test.content.apply(lambda x : join_line(x))"
   ]
  },
  {
   "cell_type": "code",
   "execution_count": 65,
   "metadata": {},
   "outputs": [],
   "source": [
    "t=Tokenizer()"
   ]
  },
  {
   "cell_type": "code",
   "execution_count": 66,
   "metadata": {},
   "outputs": [],
   "source": [
    "docs = twitter_train.content.tolist()"
   ]
  },
  {
   "cell_type": "code",
   "execution_count": 67,
   "metadata": {},
   "outputs": [],
   "source": [
    "docs_test = twitter_test.content.tolist()"
   ]
  },
  {
   "cell_type": "code",
   "execution_count": 68,
   "metadata": {},
   "outputs": [],
   "source": [
    "t.fit_on_texts(docs)"
   ]
  },
  {
   "cell_type": "code",
   "execution_count": 69,
   "metadata": {},
   "outputs": [],
   "source": [
    "t.fit_on_texts(docs_test)"
   ]
  },
  {
   "cell_type": "code",
   "execution_count": 70,
   "metadata": {},
   "outputs": [],
   "source": [
    "X_train = t.texts_to_matrix(docs, mode = 'freq')"
   ]
  },
  {
   "cell_type": "code",
   "execution_count": 71,
   "metadata": {},
   "outputs": [],
   "source": [
    "X_test = t.texts_to_matrix(docs_test, mode = 'freq')"
   ]
  },
  {
   "cell_type": "code",
   "execution_count": 72,
   "metadata": {},
   "outputs": [
    {
     "data": {
      "text/plain": [
       "array([[0.        , 0.11111111, 0.        , ..., 0.        , 0.        ,\n",
       "        0.        ],\n",
       "       [0.        , 0.        , 0.        , ..., 0.        , 0.        ,\n",
       "        0.        ],\n",
       "       [0.        , 0.        , 0.        , ..., 0.        , 0.        ,\n",
       "        0.        ],\n",
       "       ...,\n",
       "       [0.        , 0.        , 0.        , ..., 0.        , 0.        ,\n",
       "        0.        ],\n",
       "       [0.        , 0.        , 0.        , ..., 0.2       , 0.        ,\n",
       "        0.        ],\n",
       "       [0.        , 0.        , 0.        , ..., 0.        , 0.125     ,\n",
       "        0.125     ]])"
      ]
     },
     "execution_count": 72,
     "metadata": {},
     "output_type": "execute_result"
    }
   ],
   "source": [
    "X_train"
   ]
  },
  {
   "cell_type": "code",
   "execution_count": 73,
   "metadata": {},
   "outputs": [
    {
     "data": {
      "text/plain": [
       "(1106, 3280)"
      ]
     },
     "execution_count": 73,
     "metadata": {},
     "output_type": "execute_result"
    }
   ],
   "source": [
    "X_train.shape"
   ]
  },
  {
   "cell_type": "code",
   "execution_count": 74,
   "metadata": {},
   "outputs": [
    {
     "data": {
      "text/plain": [
       "(122, 3280)"
      ]
     },
     "execution_count": 74,
     "metadata": {},
     "output_type": "execute_result"
    }
   ],
   "source": [
    "X_test.shape"
   ]
  },
  {
   "cell_type": "code",
   "execution_count": 75,
   "metadata": {},
   "outputs": [],
   "source": [
    "n_words = X_test.shape[1]"
   ]
  },
  {
   "cell_type": "code",
   "execution_count": 76,
   "metadata": {},
   "outputs": [
    {
     "data": {
      "text/plain": [
       "3280"
      ]
     },
     "execution_count": 76,
     "metadata": {},
     "output_type": "execute_result"
    }
   ],
   "source": [
    "n_words"
   ]
  },
  {
   "cell_type": "code",
   "execution_count": 52,
   "metadata": {},
   "outputs": [],
   "source": []
  },
  {
   "cell_type": "code",
   "execution_count": 77,
   "metadata": {},
   "outputs": [],
   "source": [
    "y_train = array(twitter_train['polarity'])"
   ]
  },
  {
   "cell_type": "code",
   "execution_count": 78,
   "metadata": {},
   "outputs": [],
   "source": [
    "y_test = array(twitter_test['polarity'])"
   ]
  },
  {
   "cell_type": "markdown",
   "metadata": {},
   "source": [
    "# MODEL TRAIN"
   ]
  },
  {
   "cell_type": "code",
   "execution_count": 79,
   "metadata": {},
   "outputs": [],
   "source": [
    "from keras.models import Sequential\n",
    "from keras.layers import Dense\n",
    "from keras.layers import Dropout"
   ]
  },
  {
   "cell_type": "code",
   "execution_count": 86,
   "metadata": {},
   "outputs": [],
   "source": [
    "# define network\n",
    "model = Sequential()\n",
    "model.add(Dense(50, input_shape=(n_words,), activation='relu'))\n",
    "model.add(Dense(1, activation='sigmoid'))\n",
    "# compile network\n",
    "model.compile(loss='binary_crossentropy', optimizer='adam', metrics=['accuracy'])"
   ]
  },
  {
   "cell_type": "code",
   "execution_count": 87,
   "metadata": {},
   "outputs": [
    {
     "name": "stdout",
     "output_type": "stream",
     "text": [
      "Epoch 1/50\n",
      " - 0s - loss: 0.6861 - accuracy: 0.5976\n",
      "Epoch 2/50\n",
      " - 0s - loss: 0.6630 - accuracy: 0.6166\n",
      "Epoch 3/50\n",
      " - 0s - loss: 0.6357 - accuracy: 0.6184\n",
      "Epoch 4/50\n",
      " - 0s - loss: 0.5974 - accuracy: 0.6374\n",
      "Epoch 5/50\n",
      " - 0s - loss: 0.5449 - accuracy: 0.7342\n",
      "Epoch 6/50\n",
      " - 0s - loss: 0.4847 - accuracy: 0.8490\n",
      "Epoch 7/50\n",
      " - 0s - loss: 0.4243 - accuracy: 0.9078\n",
      "Epoch 8/50\n",
      " - 0s - loss: 0.3685 - accuracy: 0.9448\n",
      "Epoch 9/50\n",
      " - 0s - loss: 0.3194 - accuracy: 0.9512\n",
      "Epoch 10/50\n",
      " - 0s - loss: 0.2766 - accuracy: 0.9647\n",
      "Epoch 11/50\n",
      " - 0s - loss: 0.2413 - accuracy: 0.9702\n",
      "Epoch 12/50\n",
      " - 0s - loss: 0.2117 - accuracy: 0.9801\n",
      "Epoch 13/50\n",
      " - 0s - loss: 0.1861 - accuracy: 0.9801\n",
      "Epoch 14/50\n",
      " - 0s - loss: 0.1652 - accuracy: 0.9828\n",
      "Epoch 15/50\n",
      " - 0s - loss: 0.1472 - accuracy: 0.9828\n",
      "Epoch 16/50\n",
      " - 0s - loss: 0.1321 - accuracy: 0.9837\n",
      "Epoch 17/50\n",
      " - 0s - loss: 0.1188 - accuracy: 0.9846\n",
      "Epoch 18/50\n",
      " - 0s - loss: 0.1074 - accuracy: 0.9846\n",
      "Epoch 19/50\n",
      " - 0s - loss: 0.0977 - accuracy: 0.9882\n",
      "Epoch 20/50\n",
      " - 0s - loss: 0.0894 - accuracy: 0.9892\n",
      "Epoch 21/50\n",
      " - 0s - loss: 0.0817 - accuracy: 0.9892\n",
      "Epoch 22/50\n",
      " - 0s - loss: 0.0752 - accuracy: 0.9892\n",
      "Epoch 23/50\n",
      " - 0s - loss: 0.0699 - accuracy: 0.9901\n",
      "Epoch 24/50\n",
      " - 0s - loss: 0.0645 - accuracy: 0.9901\n",
      "Epoch 25/50\n",
      " - 0s - loss: 0.0597 - accuracy: 0.9919\n",
      "Epoch 26/50\n",
      " - 0s - loss: 0.0554 - accuracy: 0.9919\n",
      "Epoch 27/50\n",
      " - 0s - loss: 0.0517 - accuracy: 0.9928\n",
      "Epoch 28/50\n",
      " - 0s - loss: 0.0486 - accuracy: 0.9937\n",
      "Epoch 29/50\n",
      " - 0s - loss: 0.0458 - accuracy: 0.9928\n",
      "Epoch 30/50\n",
      " - 0s - loss: 0.0429 - accuracy: 0.9937\n",
      "Epoch 31/50\n",
      " - 0s - loss: 0.0406 - accuracy: 0.9937\n",
      "Epoch 32/50\n",
      " - 0s - loss: 0.0384 - accuracy: 0.9946\n",
      "Epoch 33/50\n",
      " - 0s - loss: 0.0365 - accuracy: 0.9946\n",
      "Epoch 34/50\n",
      " - 0s - loss: 0.0348 - accuracy: 0.9955\n",
      "Epoch 35/50\n",
      " - 0s - loss: 0.0333 - accuracy: 0.9955\n",
      "Epoch 36/50\n",
      " - 0s - loss: 0.0319 - accuracy: 0.9955\n",
      "Epoch 37/50\n",
      " - 0s - loss: 0.0304 - accuracy: 0.9955\n",
      "Epoch 38/50\n",
      " - 0s - loss: 0.0289 - accuracy: 0.9955\n",
      "Epoch 39/50\n",
      " - 0s - loss: 0.0281 - accuracy: 0.9955\n",
      "Epoch 40/50\n",
      " - 0s - loss: 0.0268 - accuracy: 0.9955\n",
      "Epoch 41/50\n",
      " - 0s - loss: 0.0257 - accuracy: 0.9955\n",
      "Epoch 42/50\n",
      " - 0s - loss: 0.0254 - accuracy: 0.9955\n",
      "Epoch 43/50\n",
      " - 0s - loss: 0.0242 - accuracy: 0.9955\n",
      "Epoch 44/50\n",
      " - 0s - loss: 0.0232 - accuracy: 0.9955\n",
      "Epoch 45/50\n",
      " - 0s - loss: 0.0224 - accuracy: 0.9955\n",
      "Epoch 46/50\n",
      " - 0s - loss: 0.0218 - accuracy: 0.9955\n",
      "Epoch 47/50\n",
      " - 0s - loss: 0.0214 - accuracy: 0.9955\n",
      "Epoch 48/50\n",
      " - 0s - loss: 0.0211 - accuracy: 0.9955\n",
      "Epoch 49/50\n",
      " - 0s - loss: 0.0202 - accuracy: 0.9955\n",
      "Epoch 50/50\n",
      " - 0s - loss: 0.0196 - accuracy: 0.9955\n"
     ]
    },
    {
     "data": {
      "text/plain": [
       "<keras.callbacks.callbacks.History at 0x20721701d08>"
      ]
     },
     "execution_count": 87,
     "metadata": {},
     "output_type": "execute_result"
    }
   ],
   "source": [
    "# fit network\n",
    "model.fit(X_train, y_train, epochs=50, verbose=2)"
   ]
  },
  {
   "cell_type": "code",
   "execution_count": 88,
   "metadata": {},
   "outputs": [
    {
     "name": "stdout",
     "output_type": "stream",
     "text": [
      "Test Accuracy: 67.213112\n"
     ]
    }
   ],
   "source": [
    "# evaluate\n",
    "loss, acc = model.evaluate(X_test, y_test, verbose=0)\n",
    "print('Test Accuracy: %f' % (acc*100))"
   ]
  },
  {
   "cell_type": "markdown",
   "metadata": {},
   "source": [
    "# SAVE MODEL AS PICKLE"
   ]
  },
  {
   "cell_type": "code",
   "execution_count": 68,
   "metadata": {},
   "outputs": [],
   "source": [
    "import pickle"
   ]
  },
  {
   "cell_type": "code",
   "execution_count": 96,
   "metadata": {},
   "outputs": [],
   "source": [
    "Pkl_Filename = \"Pickle_keras_Model.pkl\""
   ]
  },
  {
   "cell_type": "code",
   "execution_count": 70,
   "metadata": {},
   "outputs": [],
   "source": [
    "with open(Pkl_Filename, 'wb') as file:  \n",
    "    pickle.dump(model, file)"
   ]
  },
  {
   "cell_type": "code",
   "execution_count": 97,
   "metadata": {},
   "outputs": [
    {
     "data": {
      "text/plain": [
       "<keras.engine.sequential.Sequential at 0x20721459a08>"
      ]
     },
     "execution_count": 97,
     "metadata": {},
     "output_type": "execute_result"
    }
   ],
   "source": [
    "with open(Pkl_Filename, 'rb') as file:  \n",
    "    Pickled_keras_Model = pickle.load(file)\n",
    "\n",
    "Pickled_keras_Model"
   ]
  },
  {
   "cell_type": "markdown",
   "metadata": {},
   "source": [
    "# EXAMPLE"
   ]
  },
  {
   "cell_type": "code",
   "execution_count": 104,
   "metadata": {},
   "outputs": [
    {
     "data": {
      "text/plain": [
       "['odiar banco']"
      ]
     },
     "execution_count": 104,
     "metadata": {},
     "output_type": "execute_result"
    }
   ],
   "source": [
    "reviews = 'odio al banco'\n",
    "reviews = lemmatize_(reviews)\n",
    "reviews = set([w for w in reviews if w in vocab])\n",
    "reviews = ' '.join(reviews)\n",
    "reviews = [reviews]\n",
    "reviews"
   ]
  },
  {
   "cell_type": "code",
   "execution_count": 138,
   "metadata": {},
   "outputs": [
    {
     "data": {
      "text/plain": [
       "'polarity =0.1'"
      ]
     },
     "execution_count": 138,
     "metadata": {},
     "output_type": "execute_result"
    }
   ],
   "source": [
    "predecir_polaridad('lo odio')"
   ]
  },
  {
   "cell_type": "code",
   "execution_count": 115,
   "metadata": {},
   "outputs": [],
   "source": [
    "t.fit_on_texts(reviews)"
   ]
  },
  {
   "cell_type": "code",
   "execution_count": 116,
   "metadata": {},
   "outputs": [],
   "source": [
    "XX_train = t.texts_to_matrix(reviews, mode = 'freq')"
   ]
  },
  {
   "cell_type": "code",
   "execution_count": 118,
   "metadata": {},
   "outputs": [],
   "source": [
    "sentimen = Pickled_keras_Model.predict(XX_train, verbose=0)"
   ]
  },
  {
   "cell_type": "code",
   "execution_count": 131,
   "metadata": {},
   "outputs": [
    {
     "name": "stdout",
     "output_type": "stream",
     "text": [
      "polarity =0.0\n"
     ]
    }
   ],
   "source": [
    "print('polarity ={:0.1f}'.format(sentimen[0][0]))"
   ]
  },
  {
   "cell_type": "code",
   "execution_count": null,
   "metadata": {},
   "outputs": [],
   "source": []
  },
  {
   "cell_type": "code",
   "execution_count": null,
   "metadata": {},
   "outputs": [],
   "source": []
  },
  {
   "cell_type": "code",
   "execution_count": null,
   "metadata": {},
   "outputs": [],
   "source": []
  },
  {
   "cell_type": "code",
   "execution_count": null,
   "metadata": {},
   "outputs": [],
   "source": []
  },
  {
   "cell_type": "markdown",
   "metadata": {},
   "source": [
    "# BANCOMER TWEETS DATASET"
   ]
  },
  {
   "cell_type": "code",
   "execution_count": 20,
   "metadata": {},
   "outputs": [],
   "source": [
    "bancomer = pd.read_csv('bancomer_feb_may.csv')"
   ]
  },
  {
   "cell_type": "code",
   "execution_count": 21,
   "metadata": {},
   "outputs": [],
   "source": [
    "bancomer['text']=bancomer['text'].apply(lambda x : clean_up(x))"
   ]
  },
  {
   "cell_type": "code",
   "execution_count": 22,
   "metadata": {},
   "outputs": [],
   "source": [
    "bancomer=bancomer[~bancomer.text.str.contains(\"estadio\")]\n",
    "bancomer=bancomer[~bancomer.text.str.contains(\"liga bancomer\")]\n",
    "bancomer=bancomer[~bancomer.text.str.contains(\"ligamx\")]\n",
    "bancomer=bancomer[~bancomer.text.str.contains(\"bancomer_ligamx\")]\n",
    "bancomer=bancomer[~bancomer.text.str.contains(\"rayados\")]\n",
    "bancomer=bancomer[~bancomer.text.str.contains(\"monterrey\")]\n",
    "bancomer=bancomer[~bancomer.text.str.contains(\"estadiobbva\")]\n",
    "bancomer=bancomer[~bancomer.text.str.contains(\"estadio\")]\n",
    "bancomer=bancomer[~bancomer.text.str.contains(\"i'm at\")]"
   ]
  },
  {
   "cell_type": "code",
   "execution_count": 23,
   "metadata": {},
   "outputs": [
    {
     "data": {
      "text/plain": [
       "0        en la app de bancomer solo te advierte de usar...\n",
       "1        cuidado  saben que en la iniciativa privada es...\n",
       "2        de esas veces que vas al bancomer metrocentro ...\n",
       "3        estaba aflijido en la bancomer con sendas cagu...\n",
       "6            bancomer arruinandome el momento como siempre\n",
       "                               ...                        \n",
       "13510                                   bancomer por favor\n",
       "13511             bancomer  bbvapic twitter com augqfdqgbv\n",
       "13512    definitivamente esto hizo mi dia jajaja  tanto...\n",
       "13513    quiero que alguien se esfuerce conmigo como bb...\n",
       "13514    llevo semanas diciendolo  la campaña de bbva p...\n",
       "Name: text, Length: 13089, dtype: object"
      ]
     },
     "execution_count": 23,
     "metadata": {},
     "output_type": "execute_result"
    }
   ],
   "source": [
    "bancomer['text']"
   ]
  },
  {
   "cell_type": "code",
   "execution_count": 24,
   "metadata": {},
   "outputs": [],
   "source": [
    "bancomer['text']=bancomer['text'].apply(lambda x : lemmatize_(x))"
   ]
  },
  {
   "cell_type": "code",
   "execution_count": 25,
   "metadata": {},
   "outputs": [],
   "source": [
    "bancomer['text']=bancomer['text'].apply(lambda x : remove_sw(x))"
   ]
  },
  {
   "cell_type": "code",
   "execution_count": 26,
   "metadata": {},
   "outputs": [
    {
     "data": {
      "text/plain": [
       "0        [app, bancomer, advertir, usarlo, jailbreak, p...\n",
       "1        [cuidar, iniciativo, privar, recorte, masivo, ...\n",
       "2        [bancomer, metrocentro, sabado, noche, pic, tw...\n",
       "3                    [aflijido, bancomer, sendos, caguama]\n",
       "6                          [bancomer, arruinandome, comer]\n",
       "                               ...                        \n",
       "13510                                    [bancomer, favor]\n",
       "13511        [bancomer, bbvapic, twitter, com, augqfdqgbv]\n",
       "13512    [definitivamente, jajaja, dire, bancomer, banc...\n",
       "13513    [querer, alguien, esforzar, comer, bbva, esfor...\n",
       "13514    [semana, diciendolo, campaña, bbva, parir, inf...\n",
       "Name: text, Length: 13089, dtype: object"
      ]
     },
     "execution_count": 26,
     "metadata": {},
     "output_type": "execute_result"
    }
   ],
   "source": [
    "bancomer['text']"
   ]
  },
  {
   "cell_type": "code",
   "execution_count": 27,
   "metadata": {},
   "outputs": [],
   "source": [
    "def clean_(s):\n",
    "    lst = []\n",
    "    for i in s:\n",
    "        if i!= 'bancomer' and i!= 'twitter' and i!= 'com' and i!='bbvapic' and i!='bbva':\n",
    "            lst.append(i)\n",
    "    return lst"
   ]
  },
  {
   "cell_type": "code",
   "execution_count": 28,
   "metadata": {},
   "outputs": [],
   "source": [
    "bancomer['text'] = bancomer['text'].apply(lambda x : clean_(x))"
   ]
  },
  {
   "cell_type": "code",
   "execution_count": 34,
   "metadata": {},
   "outputs": [
    {
     "data": {
      "text/plain": [
       "18    [atencion, cliente, deficiente, sistema, turno...\n",
       "19                                           [preferir]\n",
       "20    [app, advertir, usarlo, jailbreak, permitir, u...\n",
       "21    [cuidar, iniciativo, privar, recorte, masivo, ...\n",
       "22         [metrocentro, sabado, noche, pic, pfhycmyjq]\n",
       "23                          [aflijido, sendos, caguama]\n",
       "26                                [arruinandome, comer]\n",
       "27    [uaz, placa, kia, abrir, aforar, teziutlan, qu...\n",
       "28    [linear,          , pedir, sucursal, numerar, ...\n",
       "29    [peder, falto, seguridad, resultar, magicament...\n",
       "30    [acabar, linear, excelente, servicio, ivanvill...\n",
       "31    [wallet, posteriormente, efectuar, contratacio...\n",
       "32    [aly, finalidad, apoyarte, torrar, ubicar, ave...\n",
       "33                                [querer, checar, app]\n",
       "34    [hola, jesus, excelente, domingo, atender, ara...\n",
       "35    [dile, plasticos, plantar, falso, ocupar, plas...\n",
       "36        [aceptar, credito, debitar, santander, casar]\n",
       "38    [atencion, cliente, deficiente, sistema, turno...\n",
       "39                                           [preferir]\n",
       "41       [bbvare_mx, app, movil, fallar, ultimos, ideo]\n",
       "Name: text, dtype: object"
      ]
     },
     "execution_count": 34,
     "metadata": {},
     "output_type": "execute_result"
    }
   ],
   "source": [
    "bancomer['text'][15:35]"
   ]
  },
  {
   "cell_type": "code",
   "execution_count": 35,
   "metadata": {},
   "outputs": [],
   "source": [
    "def words_in_vocab(s):\n",
    "    return [' '.join(set([w for w in s if w in vocab]))]"
   ]
  },
  {
   "cell_type": "code",
   "execution_count": 36,
   "metadata": {},
   "outputs": [
    {
     "ename": "NameError",
     "evalue": "name 'vocab' is not defined",
     "output_type": "error",
     "traceback": [
      "\u001b[1;31m---------------------------------------------------------------------------\u001b[0m",
      "\u001b[1;31mNameError\u001b[0m                                 Traceback (most recent call last)",
      "\u001b[1;32m<ipython-input-36-a589fd1fdd78>\u001b[0m in \u001b[0;36m<module>\u001b[1;34m\u001b[0m\n\u001b[1;32m----> 1\u001b[1;33m \u001b[0mbancomer\u001b[0m\u001b[1;33m[\u001b[0m\u001b[1;34m'test'\u001b[0m\u001b[1;33m]\u001b[0m\u001b[1;33m=\u001b[0m\u001b[0mbancomer\u001b[0m\u001b[1;33m[\u001b[0m\u001b[1;34m'text'\u001b[0m\u001b[1;33m]\u001b[0m\u001b[1;33m.\u001b[0m\u001b[0mapply\u001b[0m\u001b[1;33m(\u001b[0m\u001b[1;32mlambda\u001b[0m \u001b[0mx\u001b[0m \u001b[1;33m:\u001b[0m \u001b[0mwords_in_vocab\u001b[0m\u001b[1;33m(\u001b[0m\u001b[0mx\u001b[0m\u001b[1;33m)\u001b[0m\u001b[1;33m)\u001b[0m\u001b[1;33m\u001b[0m\u001b[1;33m\u001b[0m\u001b[0m\n\u001b[0m",
      "\u001b[1;32m~\\anaconda3\\lib\\site-packages\\pandas\\core\\series.py\u001b[0m in \u001b[0;36mapply\u001b[1;34m(self, func, convert_dtype, args, **kwds)\u001b[0m\n\u001b[0;32m   3846\u001b[0m             \u001b[1;32melse\u001b[0m\u001b[1;33m:\u001b[0m\u001b[1;33m\u001b[0m\u001b[1;33m\u001b[0m\u001b[0m\n\u001b[0;32m   3847\u001b[0m                 \u001b[0mvalues\u001b[0m \u001b[1;33m=\u001b[0m \u001b[0mself\u001b[0m\u001b[1;33m.\u001b[0m\u001b[0mastype\u001b[0m\u001b[1;33m(\u001b[0m\u001b[0mobject\u001b[0m\u001b[1;33m)\u001b[0m\u001b[1;33m.\u001b[0m\u001b[0mvalues\u001b[0m\u001b[1;33m\u001b[0m\u001b[1;33m\u001b[0m\u001b[0m\n\u001b[1;32m-> 3848\u001b[1;33m                 \u001b[0mmapped\u001b[0m \u001b[1;33m=\u001b[0m \u001b[0mlib\u001b[0m\u001b[1;33m.\u001b[0m\u001b[0mmap_infer\u001b[0m\u001b[1;33m(\u001b[0m\u001b[0mvalues\u001b[0m\u001b[1;33m,\u001b[0m \u001b[0mf\u001b[0m\u001b[1;33m,\u001b[0m \u001b[0mconvert\u001b[0m\u001b[1;33m=\u001b[0m\u001b[0mconvert_dtype\u001b[0m\u001b[1;33m)\u001b[0m\u001b[1;33m\u001b[0m\u001b[1;33m\u001b[0m\u001b[0m\n\u001b[0m\u001b[0;32m   3849\u001b[0m \u001b[1;33m\u001b[0m\u001b[0m\n\u001b[0;32m   3850\u001b[0m         \u001b[1;32mif\u001b[0m \u001b[0mlen\u001b[0m\u001b[1;33m(\u001b[0m\u001b[0mmapped\u001b[0m\u001b[1;33m)\u001b[0m \u001b[1;32mand\u001b[0m \u001b[0misinstance\u001b[0m\u001b[1;33m(\u001b[0m\u001b[0mmapped\u001b[0m\u001b[1;33m[\u001b[0m\u001b[1;36m0\u001b[0m\u001b[1;33m]\u001b[0m\u001b[1;33m,\u001b[0m \u001b[0mSeries\u001b[0m\u001b[1;33m)\u001b[0m\u001b[1;33m:\u001b[0m\u001b[1;33m\u001b[0m\u001b[1;33m\u001b[0m\u001b[0m\n",
      "\u001b[1;32mpandas\\_libs\\lib.pyx\u001b[0m in \u001b[0;36mpandas._libs.lib.map_infer\u001b[1;34m()\u001b[0m\n",
      "\u001b[1;32m<ipython-input-36-a589fd1fdd78>\u001b[0m in \u001b[0;36m<lambda>\u001b[1;34m(x)\u001b[0m\n\u001b[1;32m----> 1\u001b[1;33m \u001b[0mbancomer\u001b[0m\u001b[1;33m[\u001b[0m\u001b[1;34m'test'\u001b[0m\u001b[1;33m]\u001b[0m\u001b[1;33m=\u001b[0m\u001b[0mbancomer\u001b[0m\u001b[1;33m[\u001b[0m\u001b[1;34m'text'\u001b[0m\u001b[1;33m]\u001b[0m\u001b[1;33m.\u001b[0m\u001b[0mapply\u001b[0m\u001b[1;33m(\u001b[0m\u001b[1;32mlambda\u001b[0m \u001b[0mx\u001b[0m \u001b[1;33m:\u001b[0m \u001b[0mwords_in_vocab\u001b[0m\u001b[1;33m(\u001b[0m\u001b[0mx\u001b[0m\u001b[1;33m)\u001b[0m\u001b[1;33m)\u001b[0m\u001b[1;33m\u001b[0m\u001b[1;33m\u001b[0m\u001b[0m\n\u001b[0m",
      "\u001b[1;32m<ipython-input-35-ff386fb3cd63>\u001b[0m in \u001b[0;36mwords_in_vocab\u001b[1;34m(s)\u001b[0m\n\u001b[0;32m      1\u001b[0m \u001b[1;32mdef\u001b[0m \u001b[0mwords_in_vocab\u001b[0m\u001b[1;33m(\u001b[0m\u001b[0ms\u001b[0m\u001b[1;33m)\u001b[0m\u001b[1;33m:\u001b[0m\u001b[1;33m\u001b[0m\u001b[1;33m\u001b[0m\u001b[0m\n\u001b[1;32m----> 2\u001b[1;33m     \u001b[1;32mreturn\u001b[0m \u001b[1;33m[\u001b[0m\u001b[1;34m' '\u001b[0m\u001b[1;33m.\u001b[0m\u001b[0mjoin\u001b[0m\u001b[1;33m(\u001b[0m\u001b[0mset\u001b[0m\u001b[1;33m(\u001b[0m\u001b[1;33m[\u001b[0m\u001b[0mw\u001b[0m \u001b[1;32mfor\u001b[0m \u001b[0mw\u001b[0m \u001b[1;32min\u001b[0m \u001b[0ms\u001b[0m \u001b[1;32mif\u001b[0m \u001b[0mw\u001b[0m \u001b[1;32min\u001b[0m \u001b[0mvocab\u001b[0m\u001b[1;33m]\u001b[0m\u001b[1;33m)\u001b[0m\u001b[1;33m)\u001b[0m\u001b[1;33m]\u001b[0m\u001b[1;33m\u001b[0m\u001b[1;33m\u001b[0m\u001b[0m\n\u001b[0m",
      "\u001b[1;32m<ipython-input-35-ff386fb3cd63>\u001b[0m in \u001b[0;36m<listcomp>\u001b[1;34m(.0)\u001b[0m\n\u001b[0;32m      1\u001b[0m \u001b[1;32mdef\u001b[0m \u001b[0mwords_in_vocab\u001b[0m\u001b[1;33m(\u001b[0m\u001b[0ms\u001b[0m\u001b[1;33m)\u001b[0m\u001b[1;33m:\u001b[0m\u001b[1;33m\u001b[0m\u001b[1;33m\u001b[0m\u001b[0m\n\u001b[1;32m----> 2\u001b[1;33m     \u001b[1;32mreturn\u001b[0m \u001b[1;33m[\u001b[0m\u001b[1;34m' '\u001b[0m\u001b[1;33m.\u001b[0m\u001b[0mjoin\u001b[0m\u001b[1;33m(\u001b[0m\u001b[0mset\u001b[0m\u001b[1;33m(\u001b[0m\u001b[1;33m[\u001b[0m\u001b[0mw\u001b[0m \u001b[1;32mfor\u001b[0m \u001b[0mw\u001b[0m \u001b[1;32min\u001b[0m \u001b[0ms\u001b[0m \u001b[1;32mif\u001b[0m \u001b[0mw\u001b[0m \u001b[1;32min\u001b[0m \u001b[0mvocab\u001b[0m\u001b[1;33m]\u001b[0m\u001b[1;33m)\u001b[0m\u001b[1;33m)\u001b[0m\u001b[1;33m]\u001b[0m\u001b[1;33m\u001b[0m\u001b[1;33m\u001b[0m\u001b[0m\n\u001b[0m",
      "\u001b[1;31mNameError\u001b[0m: name 'vocab' is not defined"
     ]
    }
   ],
   "source": [
    "bancomer['test']=bancomer['text'].apply(lambda x : words_in_vocab(x))"
   ]
  },
  {
   "cell_type": "code",
   "execution_count": 292,
   "metadata": {},
   "outputs": [],
   "source": [
    "bancomer['test'] = bancomer['test'].apply(lambda x : model_fit(x))"
   ]
  },
  {
   "cell_type": "code",
   "execution_count": 280,
   "metadata": {},
   "outputs": [
    {
     "data": {
      "text/plain": [
       "array([[0.13431986]], dtype=float32)"
      ]
     },
     "execution_count": 280,
     "metadata": {},
     "output_type": "execute_result"
    }
   ],
   "source": [
    "Pickled_keras_Model.predict(bancomer['test'][0], verbose=0)"
   ]
  },
  {
   "cell_type": "code",
   "execution_count": 317,
   "metadata": {},
   "outputs": [],
   "source": [
    "bancomer['sentiment'] = bancomer['test'].apply(lambda x : Pickled_keras_Model.predict(x))"
   ]
  },
  {
   "cell_type": "code",
   "execution_count": 318,
   "metadata": {},
   "outputs": [],
   "source": [
    "def sentiment_(s):\n",
    "    if s<.45:\n",
    "        s = 0\n",
    "    elif s>.75:\n",
    "        s = 1\n",
    "    else:\n",
    "        s = .5\n",
    "    return s"
   ]
  },
  {
   "cell_type": "code",
   "execution_count": 319,
   "metadata": {},
   "outputs": [],
   "source": [
    "bancomer['polarity'] = bancomer['sentiment']. apply(lambda x : sentiment_(x))"
   ]
  },
  {
   "cell_type": "code",
   "execution_count": 320,
   "metadata": {},
   "outputs": [
    {
     "data": {
      "text/plain": [
       "0.0    6418\n",
       "1.0    3966\n",
       "0.5    2705\n",
       "Name: polarity, dtype: int64"
      ]
     },
     "execution_count": 320,
     "metadata": {},
     "output_type": "execute_result"
    }
   ],
   "source": [
    "bancomer['polarity'].value_counts()"
   ]
  },
  {
   "cell_type": "code",
   "execution_count": 322,
   "metadata": {},
   "outputs": [],
   "source": [
    "bancomer.to_csv('bancomer_sentiment.csv')"
   ]
  },
  {
   "cell_type": "code",
   "execution_count": 323,
   "metadata": {},
   "outputs": [],
   "source": [
    "bancomer_excercises = bancomer[['text','sentiment','polarity','timestamp']]"
   ]
  },
  {
   "cell_type": "code",
   "execution_count": 332,
   "metadata": {},
   "outputs": [],
   "source": [
    "bancomer_excercises.to_csv('bancomer_tableau.csv')"
   ]
  },
  {
   "cell_type": "code",
   "execution_count": 367,
   "metadata": {},
   "outputs": [],
   "source": [
    "bancomer['polarity'] = bancomer['polarity'].astype(str)"
   ]
  },
  {
   "cell_type": "code",
   "execution_count": 376,
   "metadata": {},
   "outputs": [
    {
     "name": "stderr",
     "output_type": "stream",
     "text": [
      "C:\\Users\\danie\\anaconda3\\lib\\site-packages\\pandas\\core\\generic.py:5303: SettingWithCopyWarning: \n",
      "A value is trying to be set on a copy of a slice from a DataFrame.\n",
      "Try using .loc[row_indexer,col_indexer] = value instead\n",
      "\n",
      "See the caveats in the documentation: https://pandas.pydata.org/pandas-docs/stable/user_guide/indexing.html#returning-a-view-versus-a-copy\n",
      "  self[name] = value\n"
     ]
    }
   ],
   "source": [
    "bancomer_excercises.sentiment = bancomer_excercises.sentiment.astype(float)"
   ]
  },
  {
   "cell_type": "code",
   "execution_count": 382,
   "metadata": {},
   "outputs": [
    {
     "name": "stderr",
     "output_type": "stream",
     "text": [
      "C:\\Users\\danie\\anaconda3\\lib\\site-packages\\ipykernel_launcher.py:1: SettingWithCopyWarning: \n",
      "A value is trying to be set on a copy of a slice from a DataFrame.\n",
      "Try using .loc[row_indexer,col_indexer] = value instead\n",
      "\n",
      "See the caveats in the documentation: https://pandas.pydata.org/pandas-docs/stable/user_guide/indexing.html#returning-a-view-versus-a-copy\n",
      "  \"\"\"Entry point for launching an IPython kernel.\n"
     ]
    }
   ],
   "source": [
    "bancomer_excercises['sentiment_def'] = bancomer_excercises['polarity']"
   ]
  },
  {
   "cell_type": "code",
   "execution_count": 392,
   "metadata": {},
   "outputs": [
    {
     "name": "stderr",
     "output_type": "stream",
     "text": [
      "C:\\Users\\danie\\anaconda3\\lib\\site-packages\\ipykernel_launcher.py:1: SettingWithCopyWarning: \n",
      "A value is trying to be set on a copy of a slice from a DataFrame.\n",
      "Try using .loc[row_indexer,col_indexer] = value instead\n",
      "\n",
      "See the caveats in the documentation: https://pandas.pydata.org/pandas-docs/stable/user_guide/indexing.html#returning-a-view-versus-a-copy\n",
      "  \"\"\"Entry point for launching an IPython kernel.\n"
     ]
    }
   ],
   "source": [
    "bancomer_excercises['sentiment_def'] = bancomer_excercises['sentiment_def'].astype(str)"
   ]
  },
  {
   "cell_type": "code",
   "execution_count": 413,
   "metadata": {},
   "outputs": [],
   "source": [
    "def pos_neg(s):\n",
    "    s = s.replace('0.0','Negative')\n",
    "    s = s.replace('1.0','Positive')\n",
    "    s = s.replace('0.5','Neutral')\n",
    "    return s"
   ]
  },
  {
   "cell_type": "code",
   "execution_count": 421,
   "metadata": {},
   "outputs": [
    {
     "data": {
      "text/plain": [
       "array(['0.0', '0.5', '1.0'], dtype=object)"
      ]
     },
     "execution_count": 421,
     "metadata": {},
     "output_type": "execute_result"
    }
   ],
   "source": [
    "bancomer['polarity'].unique()"
   ]
  },
  {
   "cell_type": "code",
   "execution_count": 415,
   "metadata": {},
   "outputs": [
    {
     "name": "stderr",
     "output_type": "stream",
     "text": [
      "C:\\Users\\danie\\anaconda3\\lib\\site-packages\\ipykernel_launcher.py:1: SettingWithCopyWarning: \n",
      "A value is trying to be set on a copy of a slice from a DataFrame.\n",
      "Try using .loc[row_indexer,col_indexer] = value instead\n",
      "\n",
      "See the caveats in the documentation: https://pandas.pydata.org/pandas-docs/stable/user_guide/indexing.html#returning-a-view-versus-a-copy\n",
      "  \"\"\"Entry point for launching an IPython kernel.\n"
     ]
    }
   ],
   "source": [
    "bancomer_excercises['sentiment_def'] = bancomer_excercises['sentiment_def'].apply(lambda x : pos_neg(x))"
   ]
  },
  {
   "cell_type": "code",
   "execution_count": 420,
   "metadata": {},
   "outputs": [
    {
     "data": {
      "text/plain": [
       "array(['Negative', 'Neutral', 'Positive'], dtype=object)"
      ]
     },
     "execution_count": 420,
     "metadata": {},
     "output_type": "execute_result"
    }
   ],
   "source": [
    "bancomer_excercises['sentiment_def'].unique()"
   ]
  },
  {
   "cell_type": "code",
   "execution_count": 419,
   "metadata": {},
   "outputs": [],
   "source": [
    "bancomer_excercises.to_csv('bancomer_tableau.csv')"
   ]
  },
  {
   "cell_type": "markdown",
   "metadata": {},
   "source": [
    "# BANAMEX DATASET"
   ]
  },
  {
   "cell_type": "code",
   "execution_count": 447,
   "metadata": {},
   "outputs": [],
   "source": [
    "banamex = pd.read_csv('banamex_feb_may.csv')"
   ]
  },
  {
   "cell_type": "code",
   "execution_count": 448,
   "metadata": {},
   "outputs": [],
   "source": [
    "#remove links, numbers and any other simbols. Convert to lower case\n",
    "def clean_up(s):\n",
    "    s=str(s)\n",
    "    s=re.sub(r'http\\S+','',s)\n",
    "    s=re.sub('\\W', ' ',s)\n",
    "    s=re.sub('\\d', ' ', s)\n",
    "    s=s.lower().strip()\n",
    "    s=s.replace('á','a')\n",
    "    s=s.replace('é','e')\n",
    "    s=s.replace('í','i')\n",
    "    s=s.replace('ó','o')\n",
    "    s=s.replace('ú','u')\n",
    "    #s=[i for i in s if i not in STOP_WORDS and i!= '   ' and i!= ' ' and i!= '  ' and i!= '    ' and i!= '     ' and i!= '      ' and i!= '       ' and len(i)>2]\n",
    "    return s"
   ]
  },
  {
   "cell_type": "code",
   "execution_count": 449,
   "metadata": {},
   "outputs": [],
   "source": [
    "banamex.text = banamex.text.apply(lambda x : clean_up(x))"
   ]
  },
  {
   "cell_type": "code",
   "execution_count": 453,
   "metadata": {},
   "outputs": [],
   "source": [
    "banamex = banamex[banamex.username != 'Contacto Citibanamex']"
   ]
  },
  {
   "cell_type": "code",
   "execution_count": 455,
   "metadata": {},
   "outputs": [],
   "source": [
    "banamex.text = banamex.text.apply(lambda x : lemmatize_(x))"
   ]
  },
  {
   "cell_type": "code",
   "execution_count": 457,
   "metadata": {},
   "outputs": [],
   "source": [
    "banamex.text = banamex.text.apply(lambda x : remove_sw(x))"
   ]
  },
  {
   "cell_type": "code",
   "execution_count": 459,
   "metadata": {},
   "outputs": [],
   "source": [
    "def clean_banamex(s):\n",
    "    lst = []\n",
    "    for i in s:\n",
    "        if i!= 'contactocitibmx' and i!= 'citibanamex' and i!= 'banamex':\n",
    "            lst.append(i)\n",
    "    return lst"
   ]
  },
  {
   "cell_type": "code",
   "execution_count": 460,
   "metadata": {},
   "outputs": [],
   "source": [
    "banamex.text = banamex.text.apply(lambda x : clean_banamex(x))"
   ]
  },
  {
   "cell_type": "code",
   "execution_count": 484,
   "metadata": {},
   "outputs": [],
   "source": [
    "banamex.text = banamex.text.apply(lambda x : model_fit(x))\n",
    "\n",
    "#i have to change the name of the column"
   ]
  },
  {
   "cell_type": "code",
   "execution_count": 487,
   "metadata": {},
   "outputs": [],
   "source": [
    "banamex['sentiment'] = banamex['text'].apply(lambda x : Pickled_keras_Model.predict(x))"
   ]
  },
  {
   "cell_type": "code",
   "execution_count": 489,
   "metadata": {},
   "outputs": [],
   "source": [
    "banamex['polarity'] = banamex['sentiment']. apply(lambda x : sentiment_(x))"
   ]
  },
  {
   "cell_type": "code",
   "execution_count": 490,
   "metadata": {},
   "outputs": [
    {
     "data": {
      "text/plain": [
       "0.0    6006\n",
       "1.0    3377\n",
       "0.5    2058\n",
       "Name: polarity, dtype: int64"
      ]
     },
     "execution_count": 490,
     "metadata": {},
     "output_type": "execute_result"
    }
   ],
   "source": [
    "banamex['polarity'].value_counts()"
   ]
  },
  {
   "cell_type": "code",
   "execution_count": 500,
   "metadata": {},
   "outputs": [],
   "source": [
    "banamex['polarity_text'] = banamex.polarity.astype(str)"
   ]
  },
  {
   "cell_type": "code",
   "execution_count": 501,
   "metadata": {},
   "outputs": [],
   "source": [
    "banamex['polarity_text'] = banamex.polarity_text.apply(lambda x : pos_neg(x))"
   ]
  },
  {
   "cell_type": "code",
   "execution_count": 503,
   "metadata": {},
   "outputs": [],
   "source": [
    "banamex.to_csv('banamex_sentiment.csv')"
   ]
  },
  {
   "cell_type": "markdown",
   "metadata": {},
   "source": [
    "# SANTANDER DATASET"
   ]
  },
  {
   "cell_type": "code",
   "execution_count": 504,
   "metadata": {},
   "outputs": [],
   "source": [
    "santander = pd.read_csv('santander_feb_may.csv')"
   ]
  },
  {
   "cell_type": "code",
   "execution_count": 507,
   "metadata": {},
   "outputs": [],
   "source": [
    "santander.text = santander.text.apply(lambda x : clean_up(x))"
   ]
  },
  {
   "cell_type": "code",
   "execution_count": 520,
   "metadata": {
    "collapsed": true
   },
   "outputs": [
    {
     "data": {
      "text/html": [
       "<div>\n",
       "<style scoped>\n",
       "    .dataframe tbody tr th:only-of-type {\n",
       "        vertical-align: middle;\n",
       "    }\n",
       "\n",
       "    .dataframe tbody tr th {\n",
       "        vertical-align: top;\n",
       "    }\n",
       "\n",
       "    .dataframe thead th {\n",
       "        text-align: right;\n",
       "    }\n",
       "</style>\n",
       "<table border=\"1\" class=\"dataframe\">\n",
       "  <thead>\n",
       "    <tr style=\"text-align: right;\">\n",
       "      <th></th>\n",
       "      <th>Unnamed: 0</th>\n",
       "      <th>screen_name</th>\n",
       "      <th>username</th>\n",
       "      <th>user_id</th>\n",
       "      <th>tweet_id</th>\n",
       "      <th>tweet_url</th>\n",
       "      <th>timestamp</th>\n",
       "      <th>timestamp_epochs</th>\n",
       "      <th>text</th>\n",
       "      <th>text_html</th>\n",
       "      <th>...</th>\n",
       "      <th>has_media</th>\n",
       "      <th>img_urls</th>\n",
       "      <th>video_url</th>\n",
       "      <th>likes</th>\n",
       "      <th>retweets</th>\n",
       "      <th>replies</th>\n",
       "      <th>is_replied</th>\n",
       "      <th>is_reply_to</th>\n",
       "      <th>parent_tweet_id</th>\n",
       "      <th>reply_to_users</th>\n",
       "    </tr>\n",
       "  </thead>\n",
       "  <tbody>\n",
       "    <tr>\n",
       "      <th>0</th>\n",
       "      <td>0</td>\n",
       "      <td>Tato_101</td>\n",
       "      <td>Juan Alberto Colín</td>\n",
       "      <td>56907972</td>\n",
       "      <td>1247311727684997126</td>\n",
       "      <td>/Tato_101/status/1247311727684997126</td>\n",
       "      <td>2020-04-06 23:54:24</td>\n",
       "      <td>1586217264</td>\n",
       "      <td>oigan  stps_mx  los del call center de  santan...</td>\n",
       "      <td>&lt;p class=\"TweetTextSize js-tweet-text tweet-te...</td>\n",
       "      <td>...</td>\n",
       "      <td>False</td>\n",
       "      <td>[]</td>\n",
       "      <td>NaN</td>\n",
       "      <td>0</td>\n",
       "      <td>0</td>\n",
       "      <td>0</td>\n",
       "      <td>False</td>\n",
       "      <td>False</td>\n",
       "      <td>NaN</td>\n",
       "      <td>[]</td>\n",
       "    </tr>\n",
       "    <tr>\n",
       "      <th>1</th>\n",
       "      <td>1</td>\n",
       "      <td>aleremes</td>\n",
       "      <td>Ale Rms Mtz</td>\n",
       "      <td>42885541</td>\n",
       "      <td>1247310992926806016</td>\n",
       "      <td>/aleremes/status/1247310992926806016</td>\n",
       "      <td>2020-04-06 23:51:29</td>\n",
       "      <td>1586217089</td>\n",
       "      <td>santandermx  condusefmx  es real esto</td>\n",
       "      <td>&lt;p class=\"TweetTextSize js-tweet-text tweet-te...</td>\n",
       "      <td>...</td>\n",
       "      <td>False</td>\n",
       "      <td>[]</td>\n",
       "      <td>NaN</td>\n",
       "      <td>0</td>\n",
       "      <td>0</td>\n",
       "      <td>0</td>\n",
       "      <td>False</td>\n",
       "      <td>False</td>\n",
       "      <td>NaN</td>\n",
       "      <td>[]</td>\n",
       "    </tr>\n",
       "    <tr>\n",
       "      <th>2</th>\n",
       "      <td>2</td>\n",
       "      <td>BRIAN6RODRIGUEZ</td>\n",
       "      <td>Brian B. Rodriguez</td>\n",
       "      <td>1870039051</td>\n",
       "      <td>1247309032114790400</td>\n",
       "      <td>/BRIAN6RODRIGUEZ/status/1247309032114790400</td>\n",
       "      <td>2020-04-06 23:43:41</td>\n",
       "      <td>1586216621</td>\n",
       "      <td>ejecutivos de estos bancos esto dicen no hay t...</td>\n",
       "      <td>&lt;p class=\"TweetTextSize js-tweet-text tweet-te...</td>\n",
       "      <td>...</td>\n",
       "      <td>False</td>\n",
       "      <td>[]</td>\n",
       "      <td>NaN</td>\n",
       "      <td>1</td>\n",
       "      <td>0</td>\n",
       "      <td>0</td>\n",
       "      <td>False</td>\n",
       "      <td>True</td>\n",
       "      <td>1.247294e+18</td>\n",
       "      <td>[{'screen_name': 'Sandra_Romandia', 'user_id':...</td>\n",
       "    </tr>\n",
       "    <tr>\n",
       "      <th>3</th>\n",
       "      <td>3</td>\n",
       "      <td>palomaa87279183</td>\n",
       "      <td>Lulusa</td>\n",
       "      <td>3805838178</td>\n",
       "      <td>1247309001550729216</td>\n",
       "      <td>/palomaa87279183/status/1247309001550729216</td>\n",
       "      <td>2020-04-06 23:43:34</td>\n",
       "      <td>1586216614</td>\n",
       "      <td>el horario de las sucursales   que datos lleva...</td>\n",
       "      <td>&lt;p class=\"TweetTextSize js-tweet-text tweet-te...</td>\n",
       "      <td>...</td>\n",
       "      <td>False</td>\n",
       "      <td>[]</td>\n",
       "      <td>NaN</td>\n",
       "      <td>0</td>\n",
       "      <td>0</td>\n",
       "      <td>3</td>\n",
       "      <td>True</td>\n",
       "      <td>True</td>\n",
       "      <td>1.247300e+18</td>\n",
       "      <td>[{'screen_name': 'SantanderMx', 'user_id': '20...</td>\n",
       "    </tr>\n",
       "    <tr>\n",
       "      <th>4</th>\n",
       "      <td>4</td>\n",
       "      <td>tremer15</td>\n",
       "      <td>@tremer</td>\n",
       "      <td>1104749561313153026</td>\n",
       "      <td>1247308501841518593</td>\n",
       "      <td>/tremer15/status/1247308501841518593</td>\n",
       "      <td>2020-04-06 23:41:35</td>\n",
       "      <td>1586216495</td>\n",
       "      <td>se supone que da   meses de gracias  lo que si...</td>\n",
       "      <td>&lt;p class=\"TweetTextSize js-tweet-text tweet-te...</td>\n",
       "      <td>...</td>\n",
       "      <td>False</td>\n",
       "      <td>[]</td>\n",
       "      <td>NaN</td>\n",
       "      <td>3</td>\n",
       "      <td>0</td>\n",
       "      <td>2</td>\n",
       "      <td>True</td>\n",
       "      <td>True</td>\n",
       "      <td>1.247294e+18</td>\n",
       "      <td>[{'screen_name': 'Sandra_Romandia', 'user_id':...</td>\n",
       "    </tr>\n",
       "    <tr>\n",
       "      <th>5</th>\n",
       "      <td>5</td>\n",
       "      <td>HanssPat</td>\n",
       "      <td>Cristopher Pat</td>\n",
       "      <td>124625778</td>\n",
       "      <td>1247308416072253442</td>\n",
       "      <td>/HanssPat/status/1247308416072253442</td>\n",
       "      <td>2020-04-06 23:41:14</td>\n",
       "      <td>1586216474</td>\n",
       "      <td>he tratado de aplazar mis pagos  llene la soli...</td>\n",
       "      <td>&lt;p class=\"TweetTextSize js-tweet-text tweet-te...</td>\n",
       "      <td>...</td>\n",
       "      <td>False</td>\n",
       "      <td>[]</td>\n",
       "      <td>NaN</td>\n",
       "      <td>1</td>\n",
       "      <td>0</td>\n",
       "      <td>0</td>\n",
       "      <td>False</td>\n",
       "      <td>True</td>\n",
       "      <td>1.247300e+18</td>\n",
       "      <td>[{'screen_name': 'SantanderMx', 'user_id': '20...</td>\n",
       "    </tr>\n",
       "    <tr>\n",
       "      <th>6</th>\n",
       "      <td>6</td>\n",
       "      <td>MorfinR</td>\n",
       "      <td>Cristina Morfìn R.</td>\n",
       "      <td>396716043</td>\n",
       "      <td>1247307119545720832</td>\n",
       "      <td>/MorfinR/status/1247307119545720832</td>\n",
       "      <td>2020-04-06 23:36:05</td>\n",
       "      <td>1586216165</td>\n",
       "      <td>nan</td>\n",
       "      <td>&lt;p class=\"TweetTextSize js-tweet-text tweet-te...</td>\n",
       "      <td>...</td>\n",
       "      <td>False</td>\n",
       "      <td>[]</td>\n",
       "      <td>NaN</td>\n",
       "      <td>2</td>\n",
       "      <td>0</td>\n",
       "      <td>0</td>\n",
       "      <td>False</td>\n",
       "      <td>True</td>\n",
       "      <td>1.247294e+18</td>\n",
       "      <td>[{'screen_name': 'Sandra_Romandia', 'user_id':...</td>\n",
       "    </tr>\n",
       "    <tr>\n",
       "      <th>7</th>\n",
       "      <td>7</td>\n",
       "      <td>miffim</td>\n",
       "      <td>Mariana Van Gogh</td>\n",
       "      <td>302989492</td>\n",
       "      <td>1247306914968383488</td>\n",
       "      <td>/miffim/status/1247306914968383488</td>\n",
       "      <td>2020-04-06 23:35:17</td>\n",
       "      <td>1586216117</td>\n",
       "      <td>asi todos los bancos  todos estan cobraran int...</td>\n",
       "      <td>&lt;p class=\"TweetTextSize js-tweet-text tweet-te...</td>\n",
       "      <td>...</td>\n",
       "      <td>False</td>\n",
       "      <td>[]</td>\n",
       "      <td>NaN</td>\n",
       "      <td>1</td>\n",
       "      <td>0</td>\n",
       "      <td>0</td>\n",
       "      <td>False</td>\n",
       "      <td>True</td>\n",
       "      <td>1.247294e+18</td>\n",
       "      <td>[{'screen_name': 'Sandra_Romandia', 'user_id':...</td>\n",
       "    </tr>\n",
       "    <tr>\n",
       "      <th>8</th>\n",
       "      <td>8</td>\n",
       "      <td>papipaco20</td>\n",
       "      <td>Fco. D.S.</td>\n",
       "      <td>548077890</td>\n",
       "      <td>1247306431004639233</td>\n",
       "      <td>/papipaco20/status/1247306431004639233</td>\n",
       "      <td>2020-04-06 23:33:21</td>\n",
       "      <td>1586216001</td>\n",
       "      <td>santandermx tengo problemas con mi app</td>\n",
       "      <td>&lt;p class=\"TweetTextSize js-tweet-text tweet-te...</td>\n",
       "      <td>...</td>\n",
       "      <td>False</td>\n",
       "      <td>[]</td>\n",
       "      <td>NaN</td>\n",
       "      <td>0</td>\n",
       "      <td>0</td>\n",
       "      <td>0</td>\n",
       "      <td>False</td>\n",
       "      <td>False</td>\n",
       "      <td>NaN</td>\n",
       "      <td>[]</td>\n",
       "    </tr>\n",
       "    <tr>\n",
       "      <th>9</th>\n",
       "      <td>9</td>\n",
       "      <td>iunodetantos</td>\n",
       "      <td>𝑺𝒓. 𝑰𝒓𝒗𝒊𝒏𝒈</td>\n",
       "      <td>295029001</td>\n",
       "      <td>1247306182722756614</td>\n",
       "      <td>/iunodetantos/status/1247306182722756614</td>\n",
       "      <td>2020-04-06 23:32:22</td>\n",
       "      <td>1586215942</td>\n",
       "      <td>pesimo servicio  lina telefonica y en sus sucu...</td>\n",
       "      <td>&lt;p class=\"TweetTextSize js-tweet-text tweet-te...</td>\n",
       "      <td>...</td>\n",
       "      <td>False</td>\n",
       "      <td>[]</td>\n",
       "      <td>NaN</td>\n",
       "      <td>0</td>\n",
       "      <td>0</td>\n",
       "      <td>0</td>\n",
       "      <td>False</td>\n",
       "      <td>False</td>\n",
       "      <td>NaN</td>\n",
       "      <td>[]</td>\n",
       "    </tr>\n",
       "    <tr>\n",
       "      <th>10</th>\n",
       "      <td>10</td>\n",
       "      <td>josepiz60</td>\n",
       "      <td>jose sanchez</td>\n",
       "      <td>2812415354</td>\n",
       "      <td>1247305925838409729</td>\n",
       "      <td>/josepiz60/status/1247305925838409729</td>\n",
       "      <td>2020-04-06 23:31:21</td>\n",
       "      <td>1586215881</td>\n",
       "      <td>gracias</td>\n",
       "      <td>&lt;p class=\"TweetTextSize js-tweet-text tweet-te...</td>\n",
       "      <td>...</td>\n",
       "      <td>False</td>\n",
       "      <td>[]</td>\n",
       "      <td>NaN</td>\n",
       "      <td>0</td>\n",
       "      <td>0</td>\n",
       "      <td>0</td>\n",
       "      <td>False</td>\n",
       "      <td>True</td>\n",
       "      <td>1.243300e+18</td>\n",
       "      <td>[{'screen_name': 'SantanderMx', 'user_id': '20...</td>\n",
       "    </tr>\n",
       "    <tr>\n",
       "      <th>11</th>\n",
       "      <td>11</td>\n",
       "      <td>CesarGarciaNav2</td>\n",
       "      <td>CAN'S</td>\n",
       "      <td>796203707000037377</td>\n",
       "      <td>1247305881726812161</td>\n",
       "      <td>/CesarGarciaNav2/status/1247305881726812161</td>\n",
       "      <td>2020-04-06 23:31:10</td>\n",
       "      <td>1586215870</td>\n",
       "      <td>van a trabajar la otra semana    de abril</td>\n",
       "      <td>&lt;p class=\"TweetTextSize js-tweet-text tweet-te...</td>\n",
       "      <td>...</td>\n",
       "      <td>False</td>\n",
       "      <td>[]</td>\n",
       "      <td>NaN</td>\n",
       "      <td>0</td>\n",
       "      <td>0</td>\n",
       "      <td>0</td>\n",
       "      <td>False</td>\n",
       "      <td>True</td>\n",
       "      <td>1.247300e+18</td>\n",
       "      <td>[{'screen_name': 'SantanderMx', 'user_id': '20...</td>\n",
       "    </tr>\n",
       "    <tr>\n",
       "      <th>12</th>\n",
       "      <td>12</td>\n",
       "      <td>SoyEduardoRueda</td>\n",
       "      <td>Eduardo Rueda</td>\n",
       "      <td>117302730</td>\n",
       "      <td>1247305212378992641</td>\n",
       "      <td>/SoyEduardoRueda/status/1247305212378992641</td>\n",
       "      <td>2020-04-06 23:28:31</td>\n",
       "      <td>1586215711</td>\n",
       "      <td>es que  santandermx es el peor banco que hay e...</td>\n",
       "      <td>&lt;p class=\"TweetTextSize js-tweet-text tweet-te...</td>\n",
       "      <td>...</td>\n",
       "      <td>False</td>\n",
       "      <td>[]</td>\n",
       "      <td>NaN</td>\n",
       "      <td>0</td>\n",
       "      <td>0</td>\n",
       "      <td>0</td>\n",
       "      <td>False</td>\n",
       "      <td>True</td>\n",
       "      <td>1.247297e+18</td>\n",
       "      <td>[{'screen_name': 'patys_fuckworld', 'user_id':...</td>\n",
       "    </tr>\n",
       "    <tr>\n",
       "      <th>14</th>\n",
       "      <td>14</td>\n",
       "      <td>rosanalugoc</td>\n",
       "      <td>Rosana LugoCastañeda</td>\n",
       "      <td>3909646993</td>\n",
       "      <td>1247304404371267586</td>\n",
       "      <td>/rosanalugoc/status/1247304404371267586</td>\n",
       "      <td>2020-04-06 23:25:18</td>\n",
       "      <td>1586215518</td>\n",
       "      <td>oigan  a mi mama que tiene    años se le venci...</td>\n",
       "      <td>&lt;p class=\"TweetTextSize js-tweet-text tweet-te...</td>\n",
       "      <td>...</td>\n",
       "      <td>False</td>\n",
       "      <td>[]</td>\n",
       "      <td>NaN</td>\n",
       "      <td>0</td>\n",
       "      <td>0</td>\n",
       "      <td>0</td>\n",
       "      <td>False</td>\n",
       "      <td>True</td>\n",
       "      <td>1.247185e+18</td>\n",
       "      <td>[{'screen_name': 'SantanderMx', 'user_id': '20...</td>\n",
       "    </tr>\n",
       "    <tr>\n",
       "      <th>16</th>\n",
       "      <td>16</td>\n",
       "      <td>EricsongMusic</td>\n",
       "      <td>Ericsong</td>\n",
       "      <td>3079526097</td>\n",
       "      <td>1247303560230035457</td>\n",
       "      <td>/EricsongMusic/status/1247303560230035457</td>\n",
       "      <td>2020-04-06 23:21:57</td>\n",
       "      <td>1586215317</td>\n",
       "      <td>santandermx pesimo su servicio de banca movil ...</td>\n",
       "      <td>&lt;p class=\"TweetTextSize js-tweet-text tweet-te...</td>\n",
       "      <td>...</td>\n",
       "      <td>False</td>\n",
       "      <td>[]</td>\n",
       "      <td>NaN</td>\n",
       "      <td>0</td>\n",
       "      <td>0</td>\n",
       "      <td>0</td>\n",
       "      <td>False</td>\n",
       "      <td>False</td>\n",
       "      <td>NaN</td>\n",
       "      <td>[]</td>\n",
       "    </tr>\n",
       "    <tr>\n",
       "      <th>18</th>\n",
       "      <td>18</td>\n",
       "      <td>Thaii_Berrocal</td>\n",
       "      <td>✄--Thaii Berrocal</td>\n",
       "      <td>249760546</td>\n",
       "      <td>1247302006966030344</td>\n",
       "      <td>/Thaii_Berrocal/status/1247302006966030344</td>\n",
       "      <td>2020-04-06 23:15:46</td>\n",
       "      <td>1586214946</td>\n",
       "      <td>no responden y tengo literal semanas sin poder...</td>\n",
       "      <td>&lt;p class=\"TweetTextSize js-tweet-text tweet-te...</td>\n",
       "      <td>...</td>\n",
       "      <td>False</td>\n",
       "      <td>[]</td>\n",
       "      <td>NaN</td>\n",
       "      <td>0</td>\n",
       "      <td>0</td>\n",
       "      <td>0</td>\n",
       "      <td>False</td>\n",
       "      <td>True</td>\n",
       "      <td>1.247269e+18</td>\n",
       "      <td>[{'screen_name': 'SantanderMx', 'user_id': '20...</td>\n",
       "    </tr>\n",
       "    <tr>\n",
       "      <th>20</th>\n",
       "      <td>20</td>\n",
       "      <td>Tato_101</td>\n",
       "      <td>Juan Alberto Colín</td>\n",
       "      <td>56907972</td>\n",
       "      <td>1247311727684997126</td>\n",
       "      <td>/Tato_101/status/1247311727684997126</td>\n",
       "      <td>2020-04-06 23:54:24</td>\n",
       "      <td>1586217264</td>\n",
       "      <td>oigan  stps_mx  los del call center de  santan...</td>\n",
       "      <td>&lt;p class=\"TweetTextSize js-tweet-text tweet-te...</td>\n",
       "      <td>...</td>\n",
       "      <td>False</td>\n",
       "      <td>[]</td>\n",
       "      <td>NaN</td>\n",
       "      <td>0</td>\n",
       "      <td>0</td>\n",
       "      <td>0</td>\n",
       "      <td>False</td>\n",
       "      <td>False</td>\n",
       "      <td>NaN</td>\n",
       "      <td>[]</td>\n",
       "    </tr>\n",
       "    <tr>\n",
       "      <th>21</th>\n",
       "      <td>21</td>\n",
       "      <td>aleremes</td>\n",
       "      <td>Ale Rms Mtz</td>\n",
       "      <td>42885541</td>\n",
       "      <td>1247310992926806016</td>\n",
       "      <td>/aleremes/status/1247310992926806016</td>\n",
       "      <td>2020-04-06 23:51:29</td>\n",
       "      <td>1586217089</td>\n",
       "      <td>santandermx  condusefmx  es real esto</td>\n",
       "      <td>&lt;p class=\"TweetTextSize js-tweet-text tweet-te...</td>\n",
       "      <td>...</td>\n",
       "      <td>False</td>\n",
       "      <td>[]</td>\n",
       "      <td>NaN</td>\n",
       "      <td>0</td>\n",
       "      <td>0</td>\n",
       "      <td>0</td>\n",
       "      <td>False</td>\n",
       "      <td>False</td>\n",
       "      <td>NaN</td>\n",
       "      <td>[]</td>\n",
       "    </tr>\n",
       "    <tr>\n",
       "      <th>22</th>\n",
       "      <td>22</td>\n",
       "      <td>BRIAN6RODRIGUEZ</td>\n",
       "      <td>Brian B. Rodriguez</td>\n",
       "      <td>1870039051</td>\n",
       "      <td>1247309032114790400</td>\n",
       "      <td>/BRIAN6RODRIGUEZ/status/1247309032114790400</td>\n",
       "      <td>2020-04-06 23:43:41</td>\n",
       "      <td>1586216621</td>\n",
       "      <td>ejecutivos de estos bancos esto dicen no hay t...</td>\n",
       "      <td>&lt;p class=\"TweetTextSize js-tweet-text tweet-te...</td>\n",
       "      <td>...</td>\n",
       "      <td>False</td>\n",
       "      <td>[]</td>\n",
       "      <td>NaN</td>\n",
       "      <td>1</td>\n",
       "      <td>0</td>\n",
       "      <td>0</td>\n",
       "      <td>False</td>\n",
       "      <td>True</td>\n",
       "      <td>1.247294e+18</td>\n",
       "      <td>[{'screen_name': 'Sandra_Romandia', 'user_id':...</td>\n",
       "    </tr>\n",
       "    <tr>\n",
       "      <th>23</th>\n",
       "      <td>23</td>\n",
       "      <td>palomaa87279183</td>\n",
       "      <td>Lulusa</td>\n",
       "      <td>3805838178</td>\n",
       "      <td>1247309001550729216</td>\n",
       "      <td>/palomaa87279183/status/1247309001550729216</td>\n",
       "      <td>2020-04-06 23:43:34</td>\n",
       "      <td>1586216614</td>\n",
       "      <td>el horario de las sucursales   que datos lleva...</td>\n",
       "      <td>&lt;p class=\"TweetTextSize js-tweet-text tweet-te...</td>\n",
       "      <td>...</td>\n",
       "      <td>False</td>\n",
       "      <td>[]</td>\n",
       "      <td>NaN</td>\n",
       "      <td>0</td>\n",
       "      <td>0</td>\n",
       "      <td>3</td>\n",
       "      <td>True</td>\n",
       "      <td>True</td>\n",
       "      <td>1.247300e+18</td>\n",
       "      <td>[{'screen_name': 'SantanderMx', 'user_id': '20...</td>\n",
       "    </tr>\n",
       "    <tr>\n",
       "      <th>24</th>\n",
       "      <td>24</td>\n",
       "      <td>tremer15</td>\n",
       "      <td>@tremer</td>\n",
       "      <td>1104749561313153026</td>\n",
       "      <td>1247308501841518593</td>\n",
       "      <td>/tremer15/status/1247308501841518593</td>\n",
       "      <td>2020-04-06 23:41:35</td>\n",
       "      <td>1586216495</td>\n",
       "      <td>se supone que da   meses de gracias  lo que si...</td>\n",
       "      <td>&lt;p class=\"TweetTextSize js-tweet-text tweet-te...</td>\n",
       "      <td>...</td>\n",
       "      <td>False</td>\n",
       "      <td>[]</td>\n",
       "      <td>NaN</td>\n",
       "      <td>3</td>\n",
       "      <td>0</td>\n",
       "      <td>2</td>\n",
       "      <td>True</td>\n",
       "      <td>True</td>\n",
       "      <td>1.247294e+18</td>\n",
       "      <td>[{'screen_name': 'Sandra_Romandia', 'user_id':...</td>\n",
       "    </tr>\n",
       "    <tr>\n",
       "      <th>25</th>\n",
       "      <td>25</td>\n",
       "      <td>HanssPat</td>\n",
       "      <td>Cristopher Pat</td>\n",
       "      <td>124625778</td>\n",
       "      <td>1247308416072253442</td>\n",
       "      <td>/HanssPat/status/1247308416072253442</td>\n",
       "      <td>2020-04-06 23:41:14</td>\n",
       "      <td>1586216474</td>\n",
       "      <td>he tratado de aplazar mis pagos  llene la soli...</td>\n",
       "      <td>&lt;p class=\"TweetTextSize js-tweet-text tweet-te...</td>\n",
       "      <td>...</td>\n",
       "      <td>False</td>\n",
       "      <td>[]</td>\n",
       "      <td>NaN</td>\n",
       "      <td>1</td>\n",
       "      <td>0</td>\n",
       "      <td>0</td>\n",
       "      <td>False</td>\n",
       "      <td>True</td>\n",
       "      <td>1.247300e+18</td>\n",
       "      <td>[{'screen_name': 'SantanderMx', 'user_id': '20...</td>\n",
       "    </tr>\n",
       "    <tr>\n",
       "      <th>26</th>\n",
       "      <td>26</td>\n",
       "      <td>MorfinR</td>\n",
       "      <td>Cristina Morfìn R.</td>\n",
       "      <td>396716043</td>\n",
       "      <td>1247307119545720832</td>\n",
       "      <td>/MorfinR/status/1247307119545720832</td>\n",
       "      <td>2020-04-06 23:36:05</td>\n",
       "      <td>1586216165</td>\n",
       "      <td>nan</td>\n",
       "      <td>&lt;p class=\"TweetTextSize js-tweet-text tweet-te...</td>\n",
       "      <td>...</td>\n",
       "      <td>False</td>\n",
       "      <td>[]</td>\n",
       "      <td>NaN</td>\n",
       "      <td>2</td>\n",
       "      <td>0</td>\n",
       "      <td>0</td>\n",
       "      <td>False</td>\n",
       "      <td>True</td>\n",
       "      <td>1.247294e+18</td>\n",
       "      <td>[{'screen_name': 'Sandra_Romandia', 'user_id':...</td>\n",
       "    </tr>\n",
       "    <tr>\n",
       "      <th>27</th>\n",
       "      <td>27</td>\n",
       "      <td>miffim</td>\n",
       "      <td>Mariana Van Gogh</td>\n",
       "      <td>302989492</td>\n",
       "      <td>1247306914968383488</td>\n",
       "      <td>/miffim/status/1247306914968383488</td>\n",
       "      <td>2020-04-06 23:35:17</td>\n",
       "      <td>1586216117</td>\n",
       "      <td>asi todos los bancos  todos estan cobraran int...</td>\n",
       "      <td>&lt;p class=\"TweetTextSize js-tweet-text tweet-te...</td>\n",
       "      <td>...</td>\n",
       "      <td>False</td>\n",
       "      <td>[]</td>\n",
       "      <td>NaN</td>\n",
       "      <td>1</td>\n",
       "      <td>0</td>\n",
       "      <td>0</td>\n",
       "      <td>False</td>\n",
       "      <td>True</td>\n",
       "      <td>1.247294e+18</td>\n",
       "      <td>[{'screen_name': 'Sandra_Romandia', 'user_id':...</td>\n",
       "    </tr>\n",
       "    <tr>\n",
       "      <th>28</th>\n",
       "      <td>28</td>\n",
       "      <td>papipaco20</td>\n",
       "      <td>Fco. D.S.</td>\n",
       "      <td>548077890</td>\n",
       "      <td>1247306431004639233</td>\n",
       "      <td>/papipaco20/status/1247306431004639233</td>\n",
       "      <td>2020-04-06 23:33:21</td>\n",
       "      <td>1586216001</td>\n",
       "      <td>santandermx tengo problemas con mi app</td>\n",
       "      <td>&lt;p class=\"TweetTextSize js-tweet-text tweet-te...</td>\n",
       "      <td>...</td>\n",
       "      <td>False</td>\n",
       "      <td>[]</td>\n",
       "      <td>NaN</td>\n",
       "      <td>0</td>\n",
       "      <td>0</td>\n",
       "      <td>0</td>\n",
       "      <td>False</td>\n",
       "      <td>False</td>\n",
       "      <td>NaN</td>\n",
       "      <td>[]</td>\n",
       "    </tr>\n",
       "    <tr>\n",
       "      <th>29</th>\n",
       "      <td>29</td>\n",
       "      <td>iunodetantos</td>\n",
       "      <td>𝑺𝒓. 𝑰𝒓𝒗𝒊𝒏𝒈</td>\n",
       "      <td>295029001</td>\n",
       "      <td>1247306182722756614</td>\n",
       "      <td>/iunodetantos/status/1247306182722756614</td>\n",
       "      <td>2020-04-06 23:32:22</td>\n",
       "      <td>1586215942</td>\n",
       "      <td>pesimo servicio  lina telefonica y en sus sucu...</td>\n",
       "      <td>&lt;p class=\"TweetTextSize js-tweet-text tweet-te...</td>\n",
       "      <td>...</td>\n",
       "      <td>False</td>\n",
       "      <td>[]</td>\n",
       "      <td>NaN</td>\n",
       "      <td>0</td>\n",
       "      <td>0</td>\n",
       "      <td>0</td>\n",
       "      <td>False</td>\n",
       "      <td>False</td>\n",
       "      <td>NaN</td>\n",
       "      <td>[]</td>\n",
       "    </tr>\n",
       "    <tr>\n",
       "      <th>30</th>\n",
       "      <td>30</td>\n",
       "      <td>josepiz60</td>\n",
       "      <td>jose sanchez</td>\n",
       "      <td>2812415354</td>\n",
       "      <td>1247305925838409729</td>\n",
       "      <td>/josepiz60/status/1247305925838409729</td>\n",
       "      <td>2020-04-06 23:31:21</td>\n",
       "      <td>1586215881</td>\n",
       "      <td>gracias</td>\n",
       "      <td>&lt;p class=\"TweetTextSize js-tweet-text tweet-te...</td>\n",
       "      <td>...</td>\n",
       "      <td>False</td>\n",
       "      <td>[]</td>\n",
       "      <td>NaN</td>\n",
       "      <td>0</td>\n",
       "      <td>0</td>\n",
       "      <td>0</td>\n",
       "      <td>False</td>\n",
       "      <td>True</td>\n",
       "      <td>1.243300e+18</td>\n",
       "      <td>[{'screen_name': 'SantanderMx', 'user_id': '20...</td>\n",
       "    </tr>\n",
       "    <tr>\n",
       "      <th>31</th>\n",
       "      <td>31</td>\n",
       "      <td>CesarGarciaNav2</td>\n",
       "      <td>CAN'S</td>\n",
       "      <td>796203707000037377</td>\n",
       "      <td>1247305881726812161</td>\n",
       "      <td>/CesarGarciaNav2/status/1247305881726812161</td>\n",
       "      <td>2020-04-06 23:31:10</td>\n",
       "      <td>1586215870</td>\n",
       "      <td>van a trabajar la otra semana    de abril</td>\n",
       "      <td>&lt;p class=\"TweetTextSize js-tweet-text tweet-te...</td>\n",
       "      <td>...</td>\n",
       "      <td>False</td>\n",
       "      <td>[]</td>\n",
       "      <td>NaN</td>\n",
       "      <td>0</td>\n",
       "      <td>0</td>\n",
       "      <td>0</td>\n",
       "      <td>False</td>\n",
       "      <td>True</td>\n",
       "      <td>1.247300e+18</td>\n",
       "      <td>[{'screen_name': 'SantanderMx', 'user_id': '20...</td>\n",
       "    </tr>\n",
       "    <tr>\n",
       "      <th>32</th>\n",
       "      <td>32</td>\n",
       "      <td>SoyEduardoRueda</td>\n",
       "      <td>Eduardo Rueda</td>\n",
       "      <td>117302730</td>\n",
       "      <td>1247305212378992641</td>\n",
       "      <td>/SoyEduardoRueda/status/1247305212378992641</td>\n",
       "      <td>2020-04-06 23:28:31</td>\n",
       "      <td>1586215711</td>\n",
       "      <td>es que  santandermx es el peor banco que hay e...</td>\n",
       "      <td>&lt;p class=\"TweetTextSize js-tweet-text tweet-te...</td>\n",
       "      <td>...</td>\n",
       "      <td>False</td>\n",
       "      <td>[]</td>\n",
       "      <td>NaN</td>\n",
       "      <td>0</td>\n",
       "      <td>0</td>\n",
       "      <td>0</td>\n",
       "      <td>False</td>\n",
       "      <td>True</td>\n",
       "      <td>1.247297e+18</td>\n",
       "      <td>[{'screen_name': 'patys_fuckworld', 'user_id':...</td>\n",
       "    </tr>\n",
       "    <tr>\n",
       "      <th>34</th>\n",
       "      <td>34</td>\n",
       "      <td>rosanalugoc</td>\n",
       "      <td>Rosana LugoCastañeda</td>\n",
       "      <td>3909646993</td>\n",
       "      <td>1247304404371267586</td>\n",
       "      <td>/rosanalugoc/status/1247304404371267586</td>\n",
       "      <td>2020-04-06 23:25:18</td>\n",
       "      <td>1586215518</td>\n",
       "      <td>oigan  a mi mama que tiene    años se le venci...</td>\n",
       "      <td>&lt;p class=\"TweetTextSize js-tweet-text tweet-te...</td>\n",
       "      <td>...</td>\n",
       "      <td>False</td>\n",
       "      <td>[]</td>\n",
       "      <td>NaN</td>\n",
       "      <td>0</td>\n",
       "      <td>0</td>\n",
       "      <td>0</td>\n",
       "      <td>False</td>\n",
       "      <td>True</td>\n",
       "      <td>1.247185e+18</td>\n",
       "      <td>[{'screen_name': 'SantanderMx', 'user_id': '20...</td>\n",
       "    </tr>\n",
       "    <tr>\n",
       "      <th>36</th>\n",
       "      <td>36</td>\n",
       "      <td>EricsongMusic</td>\n",
       "      <td>Ericsong</td>\n",
       "      <td>3079526097</td>\n",
       "      <td>1247303560230035457</td>\n",
       "      <td>/EricsongMusic/status/1247303560230035457</td>\n",
       "      <td>2020-04-06 23:21:57</td>\n",
       "      <td>1586215317</td>\n",
       "      <td>santandermx pesimo su servicio de banca movil ...</td>\n",
       "      <td>&lt;p class=\"TweetTextSize js-tweet-text tweet-te...</td>\n",
       "      <td>...</td>\n",
       "      <td>False</td>\n",
       "      <td>[]</td>\n",
       "      <td>NaN</td>\n",
       "      <td>0</td>\n",
       "      <td>0</td>\n",
       "      <td>0</td>\n",
       "      <td>False</td>\n",
       "      <td>False</td>\n",
       "      <td>NaN</td>\n",
       "      <td>[]</td>\n",
       "    </tr>\n",
       "    <tr>\n",
       "      <th>38</th>\n",
       "      <td>38</td>\n",
       "      <td>Thaii_Berrocal</td>\n",
       "      <td>✄--Thaii Berrocal</td>\n",
       "      <td>249760546</td>\n",
       "      <td>1247302006966030344</td>\n",
       "      <td>/Thaii_Berrocal/status/1247302006966030344</td>\n",
       "      <td>2020-04-06 23:15:46</td>\n",
       "      <td>1586214946</td>\n",
       "      <td>no responden y tengo literal semanas sin poder...</td>\n",
       "      <td>&lt;p class=\"TweetTextSize js-tweet-text tweet-te...</td>\n",
       "      <td>...</td>\n",
       "      <td>False</td>\n",
       "      <td>[]</td>\n",
       "      <td>NaN</td>\n",
       "      <td>0</td>\n",
       "      <td>0</td>\n",
       "      <td>0</td>\n",
       "      <td>False</td>\n",
       "      <td>True</td>\n",
       "      <td>1.247269e+18</td>\n",
       "      <td>[{'screen_name': 'SantanderMx', 'user_id': '20...</td>\n",
       "    </tr>\n",
       "    <tr>\n",
       "      <th>40</th>\n",
       "      <td>40</td>\n",
       "      <td>WiechersCamila</td>\n",
       "      <td>WiechersCamila</td>\n",
       "      <td>1211508683328241664</td>\n",
       "      <td>1247301688022663168</td>\n",
       "      <td>/WiechersCamila/status/1247301688022663168</td>\n",
       "      <td>2020-04-06 23:14:30</td>\n",
       "      <td>1586214870</td>\n",
       "      <td>y no se diga bazteca yo envie un pago a traves...</td>\n",
       "      <td>&lt;p class=\"TweetTextSize js-tweet-text tweet-te...</td>\n",
       "      <td>...</td>\n",
       "      <td>False</td>\n",
       "      <td>[]</td>\n",
       "      <td>NaN</td>\n",
       "      <td>3</td>\n",
       "      <td>0</td>\n",
       "      <td>0</td>\n",
       "      <td>False</td>\n",
       "      <td>True</td>\n",
       "      <td>1.247294e+18</td>\n",
       "      <td>[{'screen_name': 'Sandra_Romandia', 'user_id':...</td>\n",
       "    </tr>\n",
       "    <tr>\n",
       "      <th>43</th>\n",
       "      <td>43</td>\n",
       "      <td>WiechersCamila</td>\n",
       "      <td>WiechersCamila</td>\n",
       "      <td>1211508683328241664</td>\n",
       "      <td>1247301103911403525</td>\n",
       "      <td>/WiechersCamila/status/1247301103911403525</td>\n",
       "      <td>2020-04-06 23:12:11</td>\n",
       "      <td>1586214731</td>\n",
       "      <td>igualitis estan bbva y banamex</td>\n",
       "      <td>&lt;p class=\"TweetTextSize js-tweet-text tweet-te...</td>\n",
       "      <td>...</td>\n",
       "      <td>False</td>\n",
       "      <td>[]</td>\n",
       "      <td>NaN</td>\n",
       "      <td>2</td>\n",
       "      <td>0</td>\n",
       "      <td>0</td>\n",
       "      <td>False</td>\n",
       "      <td>True</td>\n",
       "      <td>1.247294e+18</td>\n",
       "      <td>[{'screen_name': 'Sandra_Romandia', 'user_id':...</td>\n",
       "    </tr>\n",
       "    <tr>\n",
       "      <th>47</th>\n",
       "      <td>47</td>\n",
       "      <td>Aguevas</td>\n",
       "      <td>hikury</td>\n",
       "      <td>1543522819</td>\n",
       "      <td>1247299001814339587</td>\n",
       "      <td>/Aguevas/status/1247299001814339587</td>\n",
       "      <td>2020-04-06 23:03:50</td>\n",
       "      <td>1586214230</td>\n",
       "      <td>apoco</td>\n",
       "      <td>&lt;p class=\"TweetTextSize js-tweet-text tweet-te...</td>\n",
       "      <td>...</td>\n",
       "      <td>False</td>\n",
       "      <td>[]</td>\n",
       "      <td>NaN</td>\n",
       "      <td>1</td>\n",
       "      <td>0</td>\n",
       "      <td>0</td>\n",
       "      <td>False</td>\n",
       "      <td>True</td>\n",
       "      <td>1.247294e+18</td>\n",
       "      <td>[{'screen_name': 'Sandra_Romandia', 'user_id':...</td>\n",
       "    </tr>\n",
       "    <tr>\n",
       "      <th>48</th>\n",
       "      <td>48</td>\n",
       "      <td>RAMNCARDENAS1</td>\n",
       "      <td>RdC</td>\n",
       "      <td>1031237162275037184</td>\n",
       "      <td>1247296671299432451</td>\n",
       "      <td>/RAMNCARDENAS1/status/1247296671299432451</td>\n",
       "      <td>2020-04-06 22:54:34</td>\n",
       "      <td>1586213674</td>\n",
       "      <td>santander podrias informarme a que linea debo ...</td>\n",
       "      <td>&lt;p class=\"TweetTextSize js-tweet-text tweet-te...</td>\n",
       "      <td>...</td>\n",
       "      <td>False</td>\n",
       "      <td>[]</td>\n",
       "      <td>NaN</td>\n",
       "      <td>0</td>\n",
       "      <td>0</td>\n",
       "      <td>1</td>\n",
       "      <td>True</td>\n",
       "      <td>True</td>\n",
       "      <td>1.247185e+18</td>\n",
       "      <td>[{'screen_name': 'SantanderMx', 'user_id': '20...</td>\n",
       "    </tr>\n",
       "    <tr>\n",
       "      <th>49</th>\n",
       "      <td>49</td>\n",
       "      <td>progamer489</td>\n",
       "      <td>GamerPro</td>\n",
       "      <td>961405959779373056</td>\n",
       "      <td>1247296638185504769</td>\n",
       "      <td>/progamer489/status/1247296638185504769</td>\n",
       "      <td>2020-04-06 22:54:26</td>\n",
       "      <td>1586213666</td>\n",
       "      <td>oye  santandermx no me funciona la app he esta...</td>\n",
       "      <td>&lt;p class=\"TweetTextSize js-tweet-text tweet-te...</td>\n",
       "      <td>...</td>\n",
       "      <td>False</td>\n",
       "      <td>[]</td>\n",
       "      <td>NaN</td>\n",
       "      <td>0</td>\n",
       "      <td>0</td>\n",
       "      <td>0</td>\n",
       "      <td>False</td>\n",
       "      <td>False</td>\n",
       "      <td>NaN</td>\n",
       "      <td>[]</td>\n",
       "    </tr>\n",
       "    <tr>\n",
       "      <th>50</th>\n",
       "      <td>50</td>\n",
       "      <td>le_rober</td>\n",
       "      <td>le_rober</td>\n",
       "      <td>149005818</td>\n",
       "      <td>1247296615007870977</td>\n",
       "      <td>/le_rober/status/1247296615007870977</td>\n",
       "      <td>2020-04-06 22:54:21</td>\n",
       "      <td>1586213661</td>\n",
       "      <td>a mi me gustaria que me devuelva mi dinero  ol...</td>\n",
       "      <td>&lt;p class=\"TweetTextSize js-tweet-text tweet-te...</td>\n",
       "      <td>...</td>\n",
       "      <td>False</td>\n",
       "      <td>[]</td>\n",
       "      <td>NaN</td>\n",
       "      <td>0</td>\n",
       "      <td>0</td>\n",
       "      <td>0</td>\n",
       "      <td>False</td>\n",
       "      <td>True</td>\n",
       "      <td>1.243300e+18</td>\n",
       "      <td>[{'screen_name': 'SantanderMx', 'user_id': '20...</td>\n",
       "    </tr>\n",
       "    <tr>\n",
       "      <th>51</th>\n",
       "      <td>51</td>\n",
       "      <td>josepiz60</td>\n",
       "      <td>jose sanchez</td>\n",
       "      <td>2812415354</td>\n",
       "      <td>1247296062282502144</td>\n",
       "      <td>/josepiz60/status/1247296062282502144</td>\n",
       "      <td>2020-04-06 22:52:09</td>\n",
       "      <td>1586213529</td>\n",
       "      <td>necesito abrir una cuenta para depositar mis a...</td>\n",
       "      <td>&lt;p class=\"TweetTextSize js-tweet-text tweet-te...</td>\n",
       "      <td>...</td>\n",
       "      <td>False</td>\n",
       "      <td>[]</td>\n",
       "      <td>NaN</td>\n",
       "      <td>0</td>\n",
       "      <td>0</td>\n",
       "      <td>1</td>\n",
       "      <td>True</td>\n",
       "      <td>True</td>\n",
       "      <td>1.243300e+18</td>\n",
       "      <td>[{'screen_name': 'SantanderMx', 'user_id': '20...</td>\n",
       "    </tr>\n",
       "    <tr>\n",
       "      <th>52</th>\n",
       "      <td>52</td>\n",
       "      <td>windstar2010</td>\n",
       "      <td>Ian Vargas</td>\n",
       "      <td>207690724</td>\n",
       "      <td>1247294690204024834</td>\n",
       "      <td>/windstar2010/status/1247294690204024834</td>\n",
       "      <td>2020-04-06 22:46:42</td>\n",
       "      <td>1586213202</td>\n",
       "      <td>santandermx el peor banco en servicios de prac...</td>\n",
       "      <td>&lt;p class=\"TweetTextSize js-tweet-text tweet-te...</td>\n",
       "      <td>...</td>\n",
       "      <td>False</td>\n",
       "      <td>[]</td>\n",
       "      <td>NaN</td>\n",
       "      <td>0</td>\n",
       "      <td>0</td>\n",
       "      <td>0</td>\n",
       "      <td>False</td>\n",
       "      <td>False</td>\n",
       "      <td>NaN</td>\n",
       "      <td>[]</td>\n",
       "    </tr>\n",
       "    <tr>\n",
       "      <th>53</th>\n",
       "      <td>53</td>\n",
       "      <td>claudimoctezuma</td>\n",
       "      <td>Claudia G. Moctezuma</td>\n",
       "      <td>136123657</td>\n",
       "      <td>1247294479981109248</td>\n",
       "      <td>/claudimoctezuma/status/1247294479981109248</td>\n",
       "      <td>2020-04-06 22:45:52</td>\n",
       "      <td>1586213152</td>\n",
       "      <td>santandermx  buenas tardes   me podria informa...</td>\n",
       "      <td>&lt;p class=\"TweetTextSize js-tweet-text tweet-te...</td>\n",
       "      <td>...</td>\n",
       "      <td>False</td>\n",
       "      <td>[]</td>\n",
       "      <td>NaN</td>\n",
       "      <td>0</td>\n",
       "      <td>0</td>\n",
       "      <td>0</td>\n",
       "      <td>False</td>\n",
       "      <td>False</td>\n",
       "      <td>NaN</td>\n",
       "      <td>[]</td>\n",
       "    </tr>\n",
       "    <tr>\n",
       "      <th>54</th>\n",
       "      <td>54</td>\n",
       "      <td>oswaldo_o</td>\n",
       "      <td>Oswaldo Olivas</td>\n",
       "      <td>8269502</td>\n",
       "      <td>1247294104142258176</td>\n",
       "      <td>/oswaldo_o/status/1247294104142258176</td>\n",
       "      <td>2020-04-06 22:44:22</td>\n",
       "      <td>1586213062</td>\n",
       "      <td>creo que es lo mismo con todos los bancos que ...</td>\n",
       "      <td>&lt;p class=\"TweetTextSize js-tweet-text tweet-te...</td>\n",
       "      <td>...</td>\n",
       "      <td>False</td>\n",
       "      <td>[]</td>\n",
       "      <td>NaN</td>\n",
       "      <td>2</td>\n",
       "      <td>0</td>\n",
       "      <td>1</td>\n",
       "      <td>True</td>\n",
       "      <td>True</td>\n",
       "      <td>1.247294e+18</td>\n",
       "      <td>[{'screen_name': 'Sandra_Romandia', 'user_id':...</td>\n",
       "    </tr>\n",
       "    <tr>\n",
       "      <th>55</th>\n",
       "      <td>55</td>\n",
       "      <td>Sandra_Romandia</td>\n",
       "      <td>Sandra Romandía</td>\n",
       "      <td>124335603</td>\n",
       "      <td>1247293846591082496</td>\n",
       "      <td>/Sandra_Romandia/status/1247293846591082496</td>\n",
       "      <td>2020-04-06 22:43:21</td>\n",
       "      <td>1586213001</td>\n",
       "      <td>resulta que  bancosantander  santandermx anunc...</td>\n",
       "      <td>&lt;p class=\"TweetTextSize js-tweet-text tweet-te...</td>\n",
       "      <td>...</td>\n",
       "      <td>False</td>\n",
       "      <td>[]</td>\n",
       "      <td>NaN</td>\n",
       "      <td>262</td>\n",
       "      <td>182</td>\n",
       "      <td>30</td>\n",
       "      <td>True</td>\n",
       "      <td>False</td>\n",
       "      <td>NaN</td>\n",
       "      <td>[]</td>\n",
       "    </tr>\n",
       "    <tr>\n",
       "      <th>56</th>\n",
       "      <td>56</td>\n",
       "      <td>elchato345</td>\n",
       "      <td>Gerardo</td>\n",
       "      <td>931234426415063040</td>\n",
       "      <td>1247293330469371904</td>\n",
       "      <td>/elchato345/status/1247293330469371904</td>\n",
       "      <td>2020-04-06 22:41:18</td>\n",
       "      <td>1586212878</td>\n",
       "      <td>ya envie mis datos y me dijeron que me marcari...</td>\n",
       "      <td>&lt;p class=\"TweetTextSize js-tweet-text tweet-te...</td>\n",
       "      <td>...</td>\n",
       "      <td>False</td>\n",
       "      <td>[]</td>\n",
       "      <td>NaN</td>\n",
       "      <td>0</td>\n",
       "      <td>0</td>\n",
       "      <td>0</td>\n",
       "      <td>False</td>\n",
       "      <td>True</td>\n",
       "      <td>1.243300e+18</td>\n",
       "      <td>[{'screen_name': 'SantanderMx', 'user_id': '20...</td>\n",
       "    </tr>\n",
       "    <tr>\n",
       "      <th>57</th>\n",
       "      <td>57</td>\n",
       "      <td>sharpein008</td>\n",
       "      <td>Sharpei \\o/</td>\n",
       "      <td>559030298</td>\n",
       "      <td>1247293118849794048</td>\n",
       "      <td>/sharpein008/status/1247293118849794048</td>\n",
       "      <td>2020-04-06 22:40:27</td>\n",
       "      <td>1586212827</td>\n",
       "      <td>santandermx de que sirve que segun me apunte p...</td>\n",
       "      <td>&lt;p class=\"TweetTextSize js-tweet-text tweet-te...</td>\n",
       "      <td>...</td>\n",
       "      <td>False</td>\n",
       "      <td>[]</td>\n",
       "      <td>NaN</td>\n",
       "      <td>0</td>\n",
       "      <td>0</td>\n",
       "      <td>0</td>\n",
       "      <td>False</td>\n",
       "      <td>False</td>\n",
       "      <td>NaN</td>\n",
       "      <td>[]</td>\n",
       "    </tr>\n",
       "    <tr>\n",
       "      <th>58</th>\n",
       "      <td>58</td>\n",
       "      <td>mariianlua</td>\n",
       "      <td>∞ Marian Lúa †</td>\n",
       "      <td>196815329</td>\n",
       "      <td>1247292773918801922</td>\n",
       "      <td>/mariianlua/status/1247292773918801922</td>\n",
       "      <td>2020-04-06 22:39:05</td>\n",
       "      <td>1586212745</td>\n",
       "      <td>santandermx pesimo servicio hice   llamadas  r...</td>\n",
       "      <td>&lt;p class=\"TweetTextSize js-tweet-text tweet-te...</td>\n",
       "      <td>...</td>\n",
       "      <td>False</td>\n",
       "      <td>[]</td>\n",
       "      <td>NaN</td>\n",
       "      <td>0</td>\n",
       "      <td>0</td>\n",
       "      <td>0</td>\n",
       "      <td>False</td>\n",
       "      <td>False</td>\n",
       "      <td>NaN</td>\n",
       "      <td>[]</td>\n",
       "    </tr>\n",
       "    <tr>\n",
       "      <th>59</th>\n",
       "      <td>59</td>\n",
       "      <td>nohabianadamas</td>\n",
       "      <td>akemi</td>\n",
       "      <td>248420458</td>\n",
       "      <td>1247290786145800198</td>\n",
       "      <td>/nohabianadamas/status/1247290786145800198</td>\n",
       "      <td>2020-04-06 22:31:11</td>\n",
       "      <td>1586212271</td>\n",
       "      <td>santandermx podrian ayudarme con una aclaracio...</td>\n",
       "      <td>&lt;p class=\"TweetTextSize js-tweet-text tweet-te...</td>\n",
       "      <td>...</td>\n",
       "      <td>False</td>\n",
       "      <td>[]</td>\n",
       "      <td>NaN</td>\n",
       "      <td>0</td>\n",
       "      <td>0</td>\n",
       "      <td>0</td>\n",
       "      <td>False</td>\n",
       "      <td>False</td>\n",
       "      <td>NaN</td>\n",
       "      <td>[]</td>\n",
       "    </tr>\n",
       "    <tr>\n",
       "      <th>60</th>\n",
       "      <td>60</td>\n",
       "      <td>ARDYMEROL</td>\n",
       "      <td>Ardy</td>\n",
       "      <td>73473947</td>\n",
       "      <td>1247290581749022721</td>\n",
       "      <td>/ARDYMEROL/status/1247290581749022721</td>\n",
       "      <td>2020-04-06 22:30:22</td>\n",
       "      <td>1586212222</td>\n",
       "      <td>santandermx he intentado comunicarme con usted...</td>\n",
       "      <td>&lt;p class=\"TweetTextSize js-tweet-text tweet-te...</td>\n",
       "      <td>...</td>\n",
       "      <td>True</td>\n",
       "      <td>['https://pbs.twimg.com/media/EU9ELFiWkAAVFS3....</td>\n",
       "      <td>NaN</td>\n",
       "      <td>0</td>\n",
       "      <td>0</td>\n",
       "      <td>0</td>\n",
       "      <td>False</td>\n",
       "      <td>False</td>\n",
       "      <td>NaN</td>\n",
       "      <td>[]</td>\n",
       "    </tr>\n",
       "    <tr>\n",
       "      <th>61</th>\n",
       "      <td>61</td>\n",
       "      <td>armenbernal</td>\n",
       "      <td>Armén Bernal</td>\n",
       "      <td>132630641</td>\n",
       "      <td>1247290086690938880</td>\n",
       "      <td>/armenbernal/status/1247290086690938880</td>\n",
       "      <td>2020-04-06 22:28:24</td>\n",
       "      <td>1586212104</td>\n",
       "      <td>bajio tambien cerro una sucursal</td>\n",
       "      <td>&lt;p class=\"TweetTextSize js-tweet-text tweet-te...</td>\n",
       "      <td>...</td>\n",
       "      <td>False</td>\n",
       "      <td>[]</td>\n",
       "      <td>NaN</td>\n",
       "      <td>0</td>\n",
       "      <td>0</td>\n",
       "      <td>0</td>\n",
       "      <td>False</td>\n",
       "      <td>True</td>\n",
       "      <td>1.247246e+18</td>\n",
       "      <td>[{'screen_name': 'gizmho', 'user_id': '1322783...</td>\n",
       "    </tr>\n",
       "    <tr>\n",
       "      <th>62</th>\n",
       "      <td>62</td>\n",
       "      <td>Rafael_O_M_1969</td>\n",
       "      <td>Vano</td>\n",
       "      <td>1084189675525455876</td>\n",
       "      <td>1247289251722559489</td>\n",
       "      <td>/Rafael_O_M_1969/status/1247289251722559489</td>\n",
       "      <td>2020-04-06 22:25:05</td>\n",
       "      <td>1586211905</td>\n",
       "      <td>santandermx estimados señores  su app no funci...</td>\n",
       "      <td>&lt;p class=\"TweetTextSize js-tweet-text tweet-te...</td>\n",
       "      <td>...</td>\n",
       "      <td>False</td>\n",
       "      <td>[]</td>\n",
       "      <td>NaN</td>\n",
       "      <td>0</td>\n",
       "      <td>0</td>\n",
       "      <td>0</td>\n",
       "      <td>False</td>\n",
       "      <td>False</td>\n",
       "      <td>NaN</td>\n",
       "      <td>[]</td>\n",
       "    </tr>\n",
       "  </tbody>\n",
       "</table>\n",
       "<p>50 rows × 22 columns</p>\n",
       "</div>"
      ],
      "text/plain": [
       "    Unnamed: 0      screen_name              username              user_id  \\\n",
       "0            0         Tato_101    Juan Alberto Colín             56907972   \n",
       "1            1         aleremes           Ale Rms Mtz             42885541   \n",
       "2            2  BRIAN6RODRIGUEZ    Brian B. Rodriguez           1870039051   \n",
       "3            3  palomaa87279183                Lulusa           3805838178   \n",
       "4            4         tremer15               @tremer  1104749561313153026   \n",
       "5            5         HanssPat        Cristopher Pat            124625778   \n",
       "6            6          MorfinR    Cristina Morfìn R.            396716043   \n",
       "7            7           miffim      Mariana Van Gogh            302989492   \n",
       "8            8       papipaco20             Fco. D.S.            548077890   \n",
       "9            9     iunodetantos            𝑺𝒓. 𝑰𝒓𝒗𝒊𝒏𝒈            295029001   \n",
       "10          10        josepiz60          jose sanchez           2812415354   \n",
       "11          11  CesarGarciaNav2                 CAN'S   796203707000037377   \n",
       "12          12  SoyEduardoRueda         Eduardo Rueda            117302730   \n",
       "14          14      rosanalugoc  Rosana LugoCastañeda           3909646993   \n",
       "16          16    EricsongMusic              Ericsong           3079526097   \n",
       "18          18   Thaii_Berrocal     ✄--Thaii Berrocal            249760546   \n",
       "20          20         Tato_101    Juan Alberto Colín             56907972   \n",
       "21          21         aleremes           Ale Rms Mtz             42885541   \n",
       "22          22  BRIAN6RODRIGUEZ    Brian B. Rodriguez           1870039051   \n",
       "23          23  palomaa87279183                Lulusa           3805838178   \n",
       "24          24         tremer15               @tremer  1104749561313153026   \n",
       "25          25         HanssPat        Cristopher Pat            124625778   \n",
       "26          26          MorfinR    Cristina Morfìn R.            396716043   \n",
       "27          27           miffim      Mariana Van Gogh            302989492   \n",
       "28          28       papipaco20             Fco. D.S.            548077890   \n",
       "29          29     iunodetantos            𝑺𝒓. 𝑰𝒓𝒗𝒊𝒏𝒈            295029001   \n",
       "30          30        josepiz60          jose sanchez           2812415354   \n",
       "31          31  CesarGarciaNav2                 CAN'S   796203707000037377   \n",
       "32          32  SoyEduardoRueda         Eduardo Rueda            117302730   \n",
       "34          34      rosanalugoc  Rosana LugoCastañeda           3909646993   \n",
       "36          36    EricsongMusic              Ericsong           3079526097   \n",
       "38          38   Thaii_Berrocal     ✄--Thaii Berrocal            249760546   \n",
       "40          40   WiechersCamila        WiechersCamila  1211508683328241664   \n",
       "43          43   WiechersCamila        WiechersCamila  1211508683328241664   \n",
       "47          47          Aguevas                hikury           1543522819   \n",
       "48          48    RAMNCARDENAS1                   RdC  1031237162275037184   \n",
       "49          49      progamer489              GamerPro   961405959779373056   \n",
       "50          50         le_rober              le_rober            149005818   \n",
       "51          51        josepiz60          jose sanchez           2812415354   \n",
       "52          52     windstar2010            Ian Vargas            207690724   \n",
       "53          53  claudimoctezuma  Claudia G. Moctezuma            136123657   \n",
       "54          54        oswaldo_o        Oswaldo Olivas              8269502   \n",
       "55          55  Sandra_Romandia       Sandra Romandía            124335603   \n",
       "56          56       elchato345               Gerardo   931234426415063040   \n",
       "57          57      sharpein008           Sharpei \\o/            559030298   \n",
       "58          58       mariianlua        ∞ Marian Lúa †            196815329   \n",
       "59          59   nohabianadamas                 akemi            248420458   \n",
       "60          60        ARDYMEROL                  Ardy             73473947   \n",
       "61          61      armenbernal          Armén Bernal            132630641   \n",
       "62          62  Rafael_O_M_1969                  Vano  1084189675525455876   \n",
       "\n",
       "               tweet_id                                    tweet_url  \\\n",
       "0   1247311727684997126         /Tato_101/status/1247311727684997126   \n",
       "1   1247310992926806016         /aleremes/status/1247310992926806016   \n",
       "2   1247309032114790400  /BRIAN6RODRIGUEZ/status/1247309032114790400   \n",
       "3   1247309001550729216  /palomaa87279183/status/1247309001550729216   \n",
       "4   1247308501841518593         /tremer15/status/1247308501841518593   \n",
       "5   1247308416072253442         /HanssPat/status/1247308416072253442   \n",
       "6   1247307119545720832          /MorfinR/status/1247307119545720832   \n",
       "7   1247306914968383488           /miffim/status/1247306914968383488   \n",
       "8   1247306431004639233       /papipaco20/status/1247306431004639233   \n",
       "9   1247306182722756614     /iunodetantos/status/1247306182722756614   \n",
       "10  1247305925838409729        /josepiz60/status/1247305925838409729   \n",
       "11  1247305881726812161  /CesarGarciaNav2/status/1247305881726812161   \n",
       "12  1247305212378992641  /SoyEduardoRueda/status/1247305212378992641   \n",
       "14  1247304404371267586      /rosanalugoc/status/1247304404371267586   \n",
       "16  1247303560230035457    /EricsongMusic/status/1247303560230035457   \n",
       "18  1247302006966030344   /Thaii_Berrocal/status/1247302006966030344   \n",
       "20  1247311727684997126         /Tato_101/status/1247311727684997126   \n",
       "21  1247310992926806016         /aleremes/status/1247310992926806016   \n",
       "22  1247309032114790400  /BRIAN6RODRIGUEZ/status/1247309032114790400   \n",
       "23  1247309001550729216  /palomaa87279183/status/1247309001550729216   \n",
       "24  1247308501841518593         /tremer15/status/1247308501841518593   \n",
       "25  1247308416072253442         /HanssPat/status/1247308416072253442   \n",
       "26  1247307119545720832          /MorfinR/status/1247307119545720832   \n",
       "27  1247306914968383488           /miffim/status/1247306914968383488   \n",
       "28  1247306431004639233       /papipaco20/status/1247306431004639233   \n",
       "29  1247306182722756614     /iunodetantos/status/1247306182722756614   \n",
       "30  1247305925838409729        /josepiz60/status/1247305925838409729   \n",
       "31  1247305881726812161  /CesarGarciaNav2/status/1247305881726812161   \n",
       "32  1247305212378992641  /SoyEduardoRueda/status/1247305212378992641   \n",
       "34  1247304404371267586      /rosanalugoc/status/1247304404371267586   \n",
       "36  1247303560230035457    /EricsongMusic/status/1247303560230035457   \n",
       "38  1247302006966030344   /Thaii_Berrocal/status/1247302006966030344   \n",
       "40  1247301688022663168   /WiechersCamila/status/1247301688022663168   \n",
       "43  1247301103911403525   /WiechersCamila/status/1247301103911403525   \n",
       "47  1247299001814339587          /Aguevas/status/1247299001814339587   \n",
       "48  1247296671299432451    /RAMNCARDENAS1/status/1247296671299432451   \n",
       "49  1247296638185504769      /progamer489/status/1247296638185504769   \n",
       "50  1247296615007870977         /le_rober/status/1247296615007870977   \n",
       "51  1247296062282502144        /josepiz60/status/1247296062282502144   \n",
       "52  1247294690204024834     /windstar2010/status/1247294690204024834   \n",
       "53  1247294479981109248  /claudimoctezuma/status/1247294479981109248   \n",
       "54  1247294104142258176        /oswaldo_o/status/1247294104142258176   \n",
       "55  1247293846591082496  /Sandra_Romandia/status/1247293846591082496   \n",
       "56  1247293330469371904       /elchato345/status/1247293330469371904   \n",
       "57  1247293118849794048      /sharpein008/status/1247293118849794048   \n",
       "58  1247292773918801922       /mariianlua/status/1247292773918801922   \n",
       "59  1247290786145800198   /nohabianadamas/status/1247290786145800198   \n",
       "60  1247290581749022721        /ARDYMEROL/status/1247290581749022721   \n",
       "61  1247290086690938880      /armenbernal/status/1247290086690938880   \n",
       "62  1247289251722559489  /Rafael_O_M_1969/status/1247289251722559489   \n",
       "\n",
       "              timestamp  timestamp_epochs  \\\n",
       "0   2020-04-06 23:54:24        1586217264   \n",
       "1   2020-04-06 23:51:29        1586217089   \n",
       "2   2020-04-06 23:43:41        1586216621   \n",
       "3   2020-04-06 23:43:34        1586216614   \n",
       "4   2020-04-06 23:41:35        1586216495   \n",
       "5   2020-04-06 23:41:14        1586216474   \n",
       "6   2020-04-06 23:36:05        1586216165   \n",
       "7   2020-04-06 23:35:17        1586216117   \n",
       "8   2020-04-06 23:33:21        1586216001   \n",
       "9   2020-04-06 23:32:22        1586215942   \n",
       "10  2020-04-06 23:31:21        1586215881   \n",
       "11  2020-04-06 23:31:10        1586215870   \n",
       "12  2020-04-06 23:28:31        1586215711   \n",
       "14  2020-04-06 23:25:18        1586215518   \n",
       "16  2020-04-06 23:21:57        1586215317   \n",
       "18  2020-04-06 23:15:46        1586214946   \n",
       "20  2020-04-06 23:54:24        1586217264   \n",
       "21  2020-04-06 23:51:29        1586217089   \n",
       "22  2020-04-06 23:43:41        1586216621   \n",
       "23  2020-04-06 23:43:34        1586216614   \n",
       "24  2020-04-06 23:41:35        1586216495   \n",
       "25  2020-04-06 23:41:14        1586216474   \n",
       "26  2020-04-06 23:36:05        1586216165   \n",
       "27  2020-04-06 23:35:17        1586216117   \n",
       "28  2020-04-06 23:33:21        1586216001   \n",
       "29  2020-04-06 23:32:22        1586215942   \n",
       "30  2020-04-06 23:31:21        1586215881   \n",
       "31  2020-04-06 23:31:10        1586215870   \n",
       "32  2020-04-06 23:28:31        1586215711   \n",
       "34  2020-04-06 23:25:18        1586215518   \n",
       "36  2020-04-06 23:21:57        1586215317   \n",
       "38  2020-04-06 23:15:46        1586214946   \n",
       "40  2020-04-06 23:14:30        1586214870   \n",
       "43  2020-04-06 23:12:11        1586214731   \n",
       "47  2020-04-06 23:03:50        1586214230   \n",
       "48  2020-04-06 22:54:34        1586213674   \n",
       "49  2020-04-06 22:54:26        1586213666   \n",
       "50  2020-04-06 22:54:21        1586213661   \n",
       "51  2020-04-06 22:52:09        1586213529   \n",
       "52  2020-04-06 22:46:42        1586213202   \n",
       "53  2020-04-06 22:45:52        1586213152   \n",
       "54  2020-04-06 22:44:22        1586213062   \n",
       "55  2020-04-06 22:43:21        1586213001   \n",
       "56  2020-04-06 22:41:18        1586212878   \n",
       "57  2020-04-06 22:40:27        1586212827   \n",
       "58  2020-04-06 22:39:05        1586212745   \n",
       "59  2020-04-06 22:31:11        1586212271   \n",
       "60  2020-04-06 22:30:22        1586212222   \n",
       "61  2020-04-06 22:28:24        1586212104   \n",
       "62  2020-04-06 22:25:05        1586211905   \n",
       "\n",
       "                                                 text  \\\n",
       "0   oigan  stps_mx  los del call center de  santan...   \n",
       "1               santandermx  condusefmx  es real esto   \n",
       "2   ejecutivos de estos bancos esto dicen no hay t...   \n",
       "3   el horario de las sucursales   que datos lleva...   \n",
       "4   se supone que da   meses de gracias  lo que si...   \n",
       "5   he tratado de aplazar mis pagos  llene la soli...   \n",
       "6                                                 nan   \n",
       "7   asi todos los bancos  todos estan cobraran int...   \n",
       "8              santandermx tengo problemas con mi app   \n",
       "9   pesimo servicio  lina telefonica y en sus sucu...   \n",
       "10                                            gracias   \n",
       "11          van a trabajar la otra semana    de abril   \n",
       "12  es que  santandermx es el peor banco que hay e...   \n",
       "14  oigan  a mi mama que tiene    años se le venci...   \n",
       "16  santandermx pesimo su servicio de banca movil ...   \n",
       "18  no responden y tengo literal semanas sin poder...   \n",
       "20  oigan  stps_mx  los del call center de  santan...   \n",
       "21              santandermx  condusefmx  es real esto   \n",
       "22  ejecutivos de estos bancos esto dicen no hay t...   \n",
       "23  el horario de las sucursales   que datos lleva...   \n",
       "24  se supone que da   meses de gracias  lo que si...   \n",
       "25  he tratado de aplazar mis pagos  llene la soli...   \n",
       "26                                                nan   \n",
       "27  asi todos los bancos  todos estan cobraran int...   \n",
       "28             santandermx tengo problemas con mi app   \n",
       "29  pesimo servicio  lina telefonica y en sus sucu...   \n",
       "30                                            gracias   \n",
       "31          van a trabajar la otra semana    de abril   \n",
       "32  es que  santandermx es el peor banco que hay e...   \n",
       "34  oigan  a mi mama que tiene    años se le venci...   \n",
       "36  santandermx pesimo su servicio de banca movil ...   \n",
       "38  no responden y tengo literal semanas sin poder...   \n",
       "40  y no se diga bazteca yo envie un pago a traves...   \n",
       "43                     igualitis estan bbva y banamex   \n",
       "47                                              apoco   \n",
       "48  santander podrias informarme a que linea debo ...   \n",
       "49  oye  santandermx no me funciona la app he esta...   \n",
       "50  a mi me gustaria que me devuelva mi dinero  ol...   \n",
       "51  necesito abrir una cuenta para depositar mis a...   \n",
       "52  santandermx el peor banco en servicios de prac...   \n",
       "53  santandermx  buenas tardes   me podria informa...   \n",
       "54  creo que es lo mismo con todos los bancos que ...   \n",
       "55  resulta que  bancosantander  santandermx anunc...   \n",
       "56  ya envie mis datos y me dijeron que me marcari...   \n",
       "57  santandermx de que sirve que segun me apunte p...   \n",
       "58  santandermx pesimo servicio hice   llamadas  r...   \n",
       "59  santandermx podrian ayudarme con una aclaracio...   \n",
       "60  santandermx he intentado comunicarme con usted...   \n",
       "61                   bajio tambien cerro una sucursal   \n",
       "62  santandermx estimados señores  su app no funci...   \n",
       "\n",
       "                                            text_html  ... has_media  \\\n",
       "0   <p class=\"TweetTextSize js-tweet-text tweet-te...  ...     False   \n",
       "1   <p class=\"TweetTextSize js-tweet-text tweet-te...  ...     False   \n",
       "2   <p class=\"TweetTextSize js-tweet-text tweet-te...  ...     False   \n",
       "3   <p class=\"TweetTextSize js-tweet-text tweet-te...  ...     False   \n",
       "4   <p class=\"TweetTextSize js-tweet-text tweet-te...  ...     False   \n",
       "5   <p class=\"TweetTextSize js-tweet-text tweet-te...  ...     False   \n",
       "6   <p class=\"TweetTextSize js-tweet-text tweet-te...  ...     False   \n",
       "7   <p class=\"TweetTextSize js-tweet-text tweet-te...  ...     False   \n",
       "8   <p class=\"TweetTextSize js-tweet-text tweet-te...  ...     False   \n",
       "9   <p class=\"TweetTextSize js-tweet-text tweet-te...  ...     False   \n",
       "10  <p class=\"TweetTextSize js-tweet-text tweet-te...  ...     False   \n",
       "11  <p class=\"TweetTextSize js-tweet-text tweet-te...  ...     False   \n",
       "12  <p class=\"TweetTextSize js-tweet-text tweet-te...  ...     False   \n",
       "14  <p class=\"TweetTextSize js-tweet-text tweet-te...  ...     False   \n",
       "16  <p class=\"TweetTextSize js-tweet-text tweet-te...  ...     False   \n",
       "18  <p class=\"TweetTextSize js-tweet-text tweet-te...  ...     False   \n",
       "20  <p class=\"TweetTextSize js-tweet-text tweet-te...  ...     False   \n",
       "21  <p class=\"TweetTextSize js-tweet-text tweet-te...  ...     False   \n",
       "22  <p class=\"TweetTextSize js-tweet-text tweet-te...  ...     False   \n",
       "23  <p class=\"TweetTextSize js-tweet-text tweet-te...  ...     False   \n",
       "24  <p class=\"TweetTextSize js-tweet-text tweet-te...  ...     False   \n",
       "25  <p class=\"TweetTextSize js-tweet-text tweet-te...  ...     False   \n",
       "26  <p class=\"TweetTextSize js-tweet-text tweet-te...  ...     False   \n",
       "27  <p class=\"TweetTextSize js-tweet-text tweet-te...  ...     False   \n",
       "28  <p class=\"TweetTextSize js-tweet-text tweet-te...  ...     False   \n",
       "29  <p class=\"TweetTextSize js-tweet-text tweet-te...  ...     False   \n",
       "30  <p class=\"TweetTextSize js-tweet-text tweet-te...  ...     False   \n",
       "31  <p class=\"TweetTextSize js-tweet-text tweet-te...  ...     False   \n",
       "32  <p class=\"TweetTextSize js-tweet-text tweet-te...  ...     False   \n",
       "34  <p class=\"TweetTextSize js-tweet-text tweet-te...  ...     False   \n",
       "36  <p class=\"TweetTextSize js-tweet-text tweet-te...  ...     False   \n",
       "38  <p class=\"TweetTextSize js-tweet-text tweet-te...  ...     False   \n",
       "40  <p class=\"TweetTextSize js-tweet-text tweet-te...  ...     False   \n",
       "43  <p class=\"TweetTextSize js-tweet-text tweet-te...  ...     False   \n",
       "47  <p class=\"TweetTextSize js-tweet-text tweet-te...  ...     False   \n",
       "48  <p class=\"TweetTextSize js-tweet-text tweet-te...  ...     False   \n",
       "49  <p class=\"TweetTextSize js-tweet-text tweet-te...  ...     False   \n",
       "50  <p class=\"TweetTextSize js-tweet-text tweet-te...  ...     False   \n",
       "51  <p class=\"TweetTextSize js-tweet-text tweet-te...  ...     False   \n",
       "52  <p class=\"TweetTextSize js-tweet-text tweet-te...  ...     False   \n",
       "53  <p class=\"TweetTextSize js-tweet-text tweet-te...  ...     False   \n",
       "54  <p class=\"TweetTextSize js-tweet-text tweet-te...  ...     False   \n",
       "55  <p class=\"TweetTextSize js-tweet-text tweet-te...  ...     False   \n",
       "56  <p class=\"TweetTextSize js-tweet-text tweet-te...  ...     False   \n",
       "57  <p class=\"TweetTextSize js-tweet-text tweet-te...  ...     False   \n",
       "58  <p class=\"TweetTextSize js-tweet-text tweet-te...  ...     False   \n",
       "59  <p class=\"TweetTextSize js-tweet-text tweet-te...  ...     False   \n",
       "60  <p class=\"TweetTextSize js-tweet-text tweet-te...  ...      True   \n",
       "61  <p class=\"TweetTextSize js-tweet-text tweet-te...  ...     False   \n",
       "62  <p class=\"TweetTextSize js-tweet-text tweet-te...  ...     False   \n",
       "\n",
       "                                             img_urls  video_url likes  \\\n",
       "0                                                  []        NaN     0   \n",
       "1                                                  []        NaN     0   \n",
       "2                                                  []        NaN     1   \n",
       "3                                                  []        NaN     0   \n",
       "4                                                  []        NaN     3   \n",
       "5                                                  []        NaN     1   \n",
       "6                                                  []        NaN     2   \n",
       "7                                                  []        NaN     1   \n",
       "8                                                  []        NaN     0   \n",
       "9                                                  []        NaN     0   \n",
       "10                                                 []        NaN     0   \n",
       "11                                                 []        NaN     0   \n",
       "12                                                 []        NaN     0   \n",
       "14                                                 []        NaN     0   \n",
       "16                                                 []        NaN     0   \n",
       "18                                                 []        NaN     0   \n",
       "20                                                 []        NaN     0   \n",
       "21                                                 []        NaN     0   \n",
       "22                                                 []        NaN     1   \n",
       "23                                                 []        NaN     0   \n",
       "24                                                 []        NaN     3   \n",
       "25                                                 []        NaN     1   \n",
       "26                                                 []        NaN     2   \n",
       "27                                                 []        NaN     1   \n",
       "28                                                 []        NaN     0   \n",
       "29                                                 []        NaN     0   \n",
       "30                                                 []        NaN     0   \n",
       "31                                                 []        NaN     0   \n",
       "32                                                 []        NaN     0   \n",
       "34                                                 []        NaN     0   \n",
       "36                                                 []        NaN     0   \n",
       "38                                                 []        NaN     0   \n",
       "40                                                 []        NaN     3   \n",
       "43                                                 []        NaN     2   \n",
       "47                                                 []        NaN     1   \n",
       "48                                                 []        NaN     0   \n",
       "49                                                 []        NaN     0   \n",
       "50                                                 []        NaN     0   \n",
       "51                                                 []        NaN     0   \n",
       "52                                                 []        NaN     0   \n",
       "53                                                 []        NaN     0   \n",
       "54                                                 []        NaN     2   \n",
       "55                                                 []        NaN   262   \n",
       "56                                                 []        NaN     0   \n",
       "57                                                 []        NaN     0   \n",
       "58                                                 []        NaN     0   \n",
       "59                                                 []        NaN     0   \n",
       "60  ['https://pbs.twimg.com/media/EU9ELFiWkAAVFS3....        NaN     0   \n",
       "61                                                 []        NaN     0   \n",
       "62                                                 []        NaN     0   \n",
       "\n",
       "    retweets  replies  is_replied  is_reply_to  parent_tweet_id  \\\n",
       "0          0        0       False        False              NaN   \n",
       "1          0        0       False        False              NaN   \n",
       "2          0        0       False         True     1.247294e+18   \n",
       "3          0        3        True         True     1.247300e+18   \n",
       "4          0        2        True         True     1.247294e+18   \n",
       "5          0        0       False         True     1.247300e+18   \n",
       "6          0        0       False         True     1.247294e+18   \n",
       "7          0        0       False         True     1.247294e+18   \n",
       "8          0        0       False        False              NaN   \n",
       "9          0        0       False        False              NaN   \n",
       "10         0        0       False         True     1.243300e+18   \n",
       "11         0        0       False         True     1.247300e+18   \n",
       "12         0        0       False         True     1.247297e+18   \n",
       "14         0        0       False         True     1.247185e+18   \n",
       "16         0        0       False        False              NaN   \n",
       "18         0        0       False         True     1.247269e+18   \n",
       "20         0        0       False        False              NaN   \n",
       "21         0        0       False        False              NaN   \n",
       "22         0        0       False         True     1.247294e+18   \n",
       "23         0        3        True         True     1.247300e+18   \n",
       "24         0        2        True         True     1.247294e+18   \n",
       "25         0        0       False         True     1.247300e+18   \n",
       "26         0        0       False         True     1.247294e+18   \n",
       "27         0        0       False         True     1.247294e+18   \n",
       "28         0        0       False        False              NaN   \n",
       "29         0        0       False        False              NaN   \n",
       "30         0        0       False         True     1.243300e+18   \n",
       "31         0        0       False         True     1.247300e+18   \n",
       "32         0        0       False         True     1.247297e+18   \n",
       "34         0        0       False         True     1.247185e+18   \n",
       "36         0        0       False        False              NaN   \n",
       "38         0        0       False         True     1.247269e+18   \n",
       "40         0        0       False         True     1.247294e+18   \n",
       "43         0        0       False         True     1.247294e+18   \n",
       "47         0        0       False         True     1.247294e+18   \n",
       "48         0        1        True         True     1.247185e+18   \n",
       "49         0        0       False        False              NaN   \n",
       "50         0        0       False         True     1.243300e+18   \n",
       "51         0        1        True         True     1.243300e+18   \n",
       "52         0        0       False        False              NaN   \n",
       "53         0        0       False        False              NaN   \n",
       "54         0        1        True         True     1.247294e+18   \n",
       "55       182       30        True        False              NaN   \n",
       "56         0        0       False         True     1.243300e+18   \n",
       "57         0        0       False        False              NaN   \n",
       "58         0        0       False        False              NaN   \n",
       "59         0        0       False        False              NaN   \n",
       "60         0        0       False        False              NaN   \n",
       "61         0        0       False         True     1.247246e+18   \n",
       "62         0        0       False        False              NaN   \n",
       "\n",
       "                                       reply_to_users  \n",
       "0                                                  []  \n",
       "1                                                  []  \n",
       "2   [{'screen_name': 'Sandra_Romandia', 'user_id':...  \n",
       "3   [{'screen_name': 'SantanderMx', 'user_id': '20...  \n",
       "4   [{'screen_name': 'Sandra_Romandia', 'user_id':...  \n",
       "5   [{'screen_name': 'SantanderMx', 'user_id': '20...  \n",
       "6   [{'screen_name': 'Sandra_Romandia', 'user_id':...  \n",
       "7   [{'screen_name': 'Sandra_Romandia', 'user_id':...  \n",
       "8                                                  []  \n",
       "9                                                  []  \n",
       "10  [{'screen_name': 'SantanderMx', 'user_id': '20...  \n",
       "11  [{'screen_name': 'SantanderMx', 'user_id': '20...  \n",
       "12  [{'screen_name': 'patys_fuckworld', 'user_id':...  \n",
       "14  [{'screen_name': 'SantanderMx', 'user_id': '20...  \n",
       "16                                                 []  \n",
       "18  [{'screen_name': 'SantanderMx', 'user_id': '20...  \n",
       "20                                                 []  \n",
       "21                                                 []  \n",
       "22  [{'screen_name': 'Sandra_Romandia', 'user_id':...  \n",
       "23  [{'screen_name': 'SantanderMx', 'user_id': '20...  \n",
       "24  [{'screen_name': 'Sandra_Romandia', 'user_id':...  \n",
       "25  [{'screen_name': 'SantanderMx', 'user_id': '20...  \n",
       "26  [{'screen_name': 'Sandra_Romandia', 'user_id':...  \n",
       "27  [{'screen_name': 'Sandra_Romandia', 'user_id':...  \n",
       "28                                                 []  \n",
       "29                                                 []  \n",
       "30  [{'screen_name': 'SantanderMx', 'user_id': '20...  \n",
       "31  [{'screen_name': 'SantanderMx', 'user_id': '20...  \n",
       "32  [{'screen_name': 'patys_fuckworld', 'user_id':...  \n",
       "34  [{'screen_name': 'SantanderMx', 'user_id': '20...  \n",
       "36                                                 []  \n",
       "38  [{'screen_name': 'SantanderMx', 'user_id': '20...  \n",
       "40  [{'screen_name': 'Sandra_Romandia', 'user_id':...  \n",
       "43  [{'screen_name': 'Sandra_Romandia', 'user_id':...  \n",
       "47  [{'screen_name': 'Sandra_Romandia', 'user_id':...  \n",
       "48  [{'screen_name': 'SantanderMx', 'user_id': '20...  \n",
       "49                                                 []  \n",
       "50  [{'screen_name': 'SantanderMx', 'user_id': '20...  \n",
       "51  [{'screen_name': 'SantanderMx', 'user_id': '20...  \n",
       "52                                                 []  \n",
       "53                                                 []  \n",
       "54  [{'screen_name': 'Sandra_Romandia', 'user_id':...  \n",
       "55                                                 []  \n",
       "56  [{'screen_name': 'SantanderMx', 'user_id': '20...  \n",
       "57                                                 []  \n",
       "58                                                 []  \n",
       "59                                                 []  \n",
       "60                                                 []  \n",
       "61  [{'screen_name': 'gizmho', 'user_id': '1322783...  \n",
       "62                                                 []  \n",
       "\n",
       "[50 rows x 22 columns]"
      ]
     },
     "execution_count": 520,
     "metadata": {},
     "output_type": "execute_result"
    }
   ],
   "source": [
    "santander.head(50)"
   ]
  },
  {
   "cell_type": "code",
   "execution_count": 518,
   "metadata": {},
   "outputs": [],
   "source": [
    "santander = santander[santander.screen_name != 'SantanderMx']"
   ]
  },
  {
   "cell_type": "code",
   "execution_count": 521,
   "metadata": {},
   "outputs": [
    {
     "name": "stderr",
     "output_type": "stream",
     "text": [
      "C:\\Users\\danie\\anaconda3\\lib\\site-packages\\pandas\\core\\generic.py:5303: SettingWithCopyWarning: \n",
      "A value is trying to be set on a copy of a slice from a DataFrame.\n",
      "Try using .loc[row_indexer,col_indexer] = value instead\n",
      "\n",
      "See the caveats in the documentation: https://pandas.pydata.org/pandas-docs/stable/user_guide/indexing.html#returning-a-view-versus-a-copy\n",
      "  self[name] = value\n"
     ]
    }
   ],
   "source": [
    "santander.text = santander.text.apply(lambda x : lemmatize_(x))"
   ]
  },
  {
   "cell_type": "code",
   "execution_count": 522,
   "metadata": {},
   "outputs": [],
   "source": [
    "santander.text = santander.text.apply(lambda x : remove_sw(x))"
   ]
  },
  {
   "cell_type": "code",
   "execution_count": 524,
   "metadata": {},
   "outputs": [],
   "source": [
    "santander.text=santander.text.apply(lambda x : words_in_vocab(x))"
   ]
  },
  {
   "cell_type": "code",
   "execution_count": 526,
   "metadata": {},
   "outputs": [
    {
     "name": "stderr",
     "output_type": "stream",
     "text": [
      "C:\\Users\\danie\\anaconda3\\lib\\site-packages\\ipykernel_launcher.py:1: SettingWithCopyWarning: \n",
      "A value is trying to be set on a copy of a slice from a DataFrame.\n",
      "Try using .loc[row_indexer,col_indexer] = value instead\n",
      "\n",
      "See the caveats in the documentation: https://pandas.pydata.org/pandas-docs/stable/user_guide/indexing.html#returning-a-view-versus-a-copy\n",
      "  \"\"\"Entry point for launching an IPython kernel.\n"
     ]
    }
   ],
   "source": [
    "santander['text'] = santander['text'].apply(lambda x : model_fit(x))"
   ]
  },
  {
   "cell_type": "code",
   "execution_count": 527,
   "metadata": {},
   "outputs": [
    {
     "name": "stderr",
     "output_type": "stream",
     "text": [
      "C:\\Users\\danie\\anaconda3\\lib\\site-packages\\ipykernel_launcher.py:1: SettingWithCopyWarning: \n",
      "A value is trying to be set on a copy of a slice from a DataFrame.\n",
      "Try using .loc[row_indexer,col_indexer] = value instead\n",
      "\n",
      "See the caveats in the documentation: https://pandas.pydata.org/pandas-docs/stable/user_guide/indexing.html#returning-a-view-versus-a-copy\n",
      "  \"\"\"Entry point for launching an IPython kernel.\n"
     ]
    }
   ],
   "source": [
    "santander['sentiment'] = santander['text'].apply(lambda x : Pickled_keras_Model.predict(x))"
   ]
  },
  {
   "cell_type": "code",
   "execution_count": 529,
   "metadata": {},
   "outputs": [
    {
     "name": "stderr",
     "output_type": "stream",
     "text": [
      "C:\\Users\\danie\\anaconda3\\lib\\site-packages\\ipykernel_launcher.py:1: SettingWithCopyWarning: \n",
      "A value is trying to be set on a copy of a slice from a DataFrame.\n",
      "Try using .loc[row_indexer,col_indexer] = value instead\n",
      "\n",
      "See the caveats in the documentation: https://pandas.pydata.org/pandas-docs/stable/user_guide/indexing.html#returning-a-view-versus-a-copy\n",
      "  \"\"\"Entry point for launching an IPython kernel.\n"
     ]
    }
   ],
   "source": [
    "santander['polarity'] = santander['sentiment']. apply(lambda x : sentiment_(x))"
   ]
  },
  {
   "cell_type": "code",
   "execution_count": 530,
   "metadata": {},
   "outputs": [
    {
     "name": "stderr",
     "output_type": "stream",
     "text": [
      "C:\\Users\\danie\\anaconda3\\lib\\site-packages\\ipykernel_launcher.py:1: SettingWithCopyWarning: \n",
      "A value is trying to be set on a copy of a slice from a DataFrame.\n",
      "Try using .loc[row_indexer,col_indexer] = value instead\n",
      "\n",
      "See the caveats in the documentation: https://pandas.pydata.org/pandas-docs/stable/user_guide/indexing.html#returning-a-view-versus-a-copy\n",
      "  \"\"\"Entry point for launching an IPython kernel.\n"
     ]
    }
   ],
   "source": [
    "santander['polarity_text'] = santander.polarity.astype(str)"
   ]
  },
  {
   "cell_type": "code",
   "execution_count": 533,
   "metadata": {},
   "outputs": [
    {
     "name": "stderr",
     "output_type": "stream",
     "text": [
      "C:\\Users\\danie\\anaconda3\\lib\\site-packages\\ipykernel_launcher.py:1: SettingWithCopyWarning: \n",
      "A value is trying to be set on a copy of a slice from a DataFrame.\n",
      "Try using .loc[row_indexer,col_indexer] = value instead\n",
      "\n",
      "See the caveats in the documentation: https://pandas.pydata.org/pandas-docs/stable/user_guide/indexing.html#returning-a-view-versus-a-copy\n",
      "  \"\"\"Entry point for launching an IPython kernel.\n"
     ]
    }
   ],
   "source": [
    "santander['polarity_text'] = santander.polarity_text.apply(lambda x : pos_neg(x))"
   ]
  },
  {
   "cell_type": "code",
   "execution_count": 534,
   "metadata": {},
   "outputs": [],
   "source": [
    "santander.to_csv('santander_sentiment.csv')"
   ]
  },
  {
   "cell_type": "code",
   "execution_count": null,
   "metadata": {},
   "outputs": [],
   "source": []
  }
 ],
 "metadata": {
  "kernelspec": {
   "display_name": "Python 3",
   "language": "python",
   "name": "python3"
  },
  "language_info": {
   "codemirror_mode": {
    "name": "ipython",
    "version": 3
   },
   "file_extension": ".py",
   "mimetype": "text/x-python",
   "name": "python",
   "nbconvert_exporter": "python",
   "pygments_lexer": "ipython3",
   "version": "3.7.6"
  }
 },
 "nbformat": 4,
 "nbformat_minor": 4
}
